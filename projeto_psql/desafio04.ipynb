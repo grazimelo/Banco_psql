{
 "cells": [
  {
   "cell_type": "code",
   "execution_count": 1,
   "metadata": {},
   "outputs": [],
   "source": [
    "import xlrd"
   ]
  },
  {
   "cell_type": "code",
   "execution_count": 2,
   "metadata": {},
   "outputs": [],
   "source": [
    "def excel_to_list(filename, in_memory=None):\n",
    "    '''\n",
    "    Lê planilha Excel e retorna uma lista de dicionários.\n",
    "    Você pode informar se quer ler o arquivo InMemoryUploadedFile.\n",
    "    https://stackoverflow.com/a/38309568/802542\n",
    "    https://stackoverflow.com/a/12886981/802542\n",
    "    '''\n",
    "    if in_memory:\n",
    "        workbook = xlrd.open_workbook(filename=None, file_contents=filename.read())  # noqa\n",
    "    else:\n",
    "        workbook = xlrd.open_workbook(filename)\n",
    "    sheet = workbook.sheet_by_index(0)\n",
    "\n",
    "    first_line = []\n",
    "    for col in range(sheet.ncols):\n",
    "        first_line.append(sheet.cell_value(0, col).strip())\n",
    "\n",
    "    data = []\n",
    "    for row in range(1, sheet.nrows):\n",
    "        obj_dict = {}\n",
    "        for col in range(sheet.ncols):\n",
    "            obj_dict[first_line[col]] = sheet.cell_value(row, col)\n",
    "        data.append(obj_dict)\n",
    "    return data"
   ]
  },
  {
   "cell_type": "code",
   "execution_count": 4,
   "metadata": {},
   "outputs": [
    {
     "name": "stdout",
     "output_type": "stream",
     "text": [
      "categoria.xlsx      \u001b[0m\u001b[01;35mdiagrama.png\u001b[0m      itens_venda.xlsx  README.md\r\n",
      "cliente.xlsx        drop_database.py  produto.xlsx      requirements.txt\r\n",
      "create_database.py  gen_data.py       project_db.py     Untitled.py\r\n",
      "create_tables.py    import_data.py    \u001b[01;34mprojeto_psql\u001b[0m/     venda.xlsx\r\n"
     ]
    }
   ],
   "source": [
    "ls .."
   ]
  },
  {
   "cell_type": "code",
   "execution_count": 6,
   "metadata": {},
   "outputs": [],
   "source": [
    "clientes = excel_to_list('../cliente.xlsx')"
   ]
  },
  {
   "cell_type": "code",
   "execution_count": 8,
   "metadata": {},
   "outputs": [
    {
     "name": "stdout",
     "output_type": "stream",
     "text": [
      "{'id': 460.0, 'nome': 'Thomas Anthony'} 460.0 Thomas Anthony\n",
      "{'id': 981.0, 'nome': 'Alexander Hancock'} 981.0 Alexander Hancock\n",
      "{'id': 909.0, 'nome': 'Tony Green'} 909.0 Tony Green\n",
      "{'id': 715.0, 'nome': 'Stephanie Becker'} 715.0 Stephanie Becker\n",
      "{'id': 778.0, 'nome': 'Micheal Dixon'} 778.0 Micheal Dixon\n",
      "{'id': 193.0, 'nome': 'Tara Scott'} 193.0 Tara Scott\n",
      "{'id': 669.0, 'nome': 'Tina Anderson'} 669.0 Tina Anderson\n",
      "{'id': 333.0, 'nome': 'April Donovan'} 333.0 April Donovan\n",
      "{'id': 745.0, 'nome': 'Michael Johnston'} 745.0 Michael Johnston\n",
      "{'id': 131.0, 'nome': 'Heather Kelly'} 131.0 Heather Kelly\n",
      "{'id': 827.0, 'nome': 'Daniel Crawford'} 827.0 Daniel Crawford\n",
      "{'id': 830.0, 'nome': 'Maria Nixon'} 830.0 Maria Nixon\n",
      "{'id': 124.0, 'nome': 'Veronica Haley'} 124.0 Veronica Haley\n",
      "{'id': 344.0, 'nome': 'Ashley Case'} 344.0 Ashley Case\n",
      "{'id': 981.0, 'nome': 'Lauren Garza'} 981.0 Lauren Garza\n",
      "{'id': 317.0, 'nome': 'Sean Clark'} 317.0 Sean Clark\n",
      "{'id': 145.0, 'nome': 'Nicole Sosa'} 145.0 Nicole Sosa\n",
      "{'id': 377.0, 'nome': 'Tracy Rivera'} 377.0 Tracy Rivera\n",
      "{'id': 762.0, 'nome': 'Carrie Tapia'} 762.0 Carrie Tapia\n",
      "{'id': 597.0, 'nome': 'Crystal Schmidt'} 597.0 Crystal Schmidt\n",
      "{'id': 574.0, 'nome': 'Kimberly Gibbs'} 574.0 Kimberly Gibbs\n",
      "{'id': 930.0, 'nome': 'Cassidy Johnson'} 930.0 Cassidy Johnson\n",
      "{'id': 239.0, 'nome': 'Nicole Ramos'} 239.0 Nicole Ramos\n",
      "{'id': 781.0, 'nome': 'Patrick Bass'} 781.0 Patrick Bass\n",
      "{'id': 166.0, 'nome': 'Dustin Lee'} 166.0 Dustin Lee\n",
      "{'id': 227.0, 'nome': 'Emily Hull'} 227.0 Emily Hull\n",
      "{'id': 175.0, 'nome': 'Shawn Bruce'} 175.0 Shawn Bruce\n",
      "{'id': 738.0, 'nome': 'Molly Waters'} 738.0 Molly Waters\n",
      "{'id': 633.0, 'nome': 'Eric Meyer'} 633.0 Eric Meyer\n",
      "{'id': 812.0, 'nome': 'Craig Johnson Jr.'} 812.0 Craig Johnson Jr.\n",
      "{'id': 459.0, 'nome': 'William Reid'} 459.0 William Reid\n",
      "{'id': 234.0, 'nome': 'Shirley Cook'} 234.0 Shirley Cook\n",
      "{'id': 184.0, 'nome': 'Jeffrey George'} 184.0 Jeffrey George\n",
      "{'id': 670.0, 'nome': 'Nicole Wagner'} 670.0 Nicole Wagner\n",
      "{'id': 209.0, 'nome': 'James Galloway'} 209.0 James Galloway\n",
      "{'id': 333.0, 'nome': 'Robert Hunt'} 333.0 Robert Hunt\n",
      "{'id': 563.0, 'nome': 'Richard English'} 563.0 Richard English\n",
      "{'id': 977.0, 'nome': 'Rachel Brown'} 977.0 Rachel Brown\n",
      "{'id': 361.0, 'nome': 'Colin Reynolds'} 361.0 Colin Reynolds\n",
      "{'id': 709.0, 'nome': 'Jimmy Singh'} 709.0 Jimmy Singh\n",
      "{'id': 525.0, 'nome': 'Tiffany Alvarado'} 525.0 Tiffany Alvarado\n",
      "{'id': 175.0, 'nome': 'Wendy Pacheco'} 175.0 Wendy Pacheco\n",
      "{'id': 408.0, 'nome': 'Rodney Clements'} 408.0 Rodney Clements\n",
      "{'id': 643.0, 'nome': 'David Andrews'} 643.0 David Andrews\n",
      "{'id': 886.0, 'nome': 'Donna Calderon'} 886.0 Donna Calderon\n",
      "{'id': 153.0, 'nome': 'Ann Brown'} 153.0 Ann Brown\n",
      "{'id': 731.0, 'nome': 'Lawrence Murphy'} 731.0 Lawrence Murphy\n",
      "{'id': 822.0, 'nome': 'Jill Barber'} 822.0 Jill Barber\n",
      "{'id': 914.0, 'nome': 'Jasmine Lawson'} 914.0 Jasmine Lawson\n",
      "{'id': 124.0, 'nome': 'Joshua Lewis'} 124.0 Joshua Lewis\n"
     ]
    }
   ],
   "source": [
    "for cliente in clientes:\n",
    "    rintcliente['id'], cliente['nome'])"
   ]
  },
  {
   "cell_type": "code",
   "execution_count": null,
   "metadata": {},
   "outputs": [],
   "source": []
  }
 ],
 "metadata": {
  "kernelspec": {
   "display_name": "Django Shell-Plus",
   "language": "python",
   "name": "django_extensions"
  },
  "language_info": {
   "codemirror_mode": {
    "name": "ipython",
    "version": 3
   },
   "file_extension": ".py",
   "mimetype": "text/x-python",
   "name": "python",
   "nbconvert_exporter": "python",
   "pygments_lexer": "ipython3",
   "version": "3.8.2"
  }
 },
 "nbformat": 4,
 "nbformat_minor": 4
}
