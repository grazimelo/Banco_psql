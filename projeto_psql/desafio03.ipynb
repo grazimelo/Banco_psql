{
 "cells": [
  {
   "cell_type": "code",
   "execution_count": null,
   "metadata": {},
   "outputs": [],
   "source": [
    "# Desafio 3\n",
    "import psycopg2\n",
    "import pandas as pd\n",
    "from decouple import config"
   ]
  },
  {
   "cell_type": "code",
   "execution_count": null,
   "metadata": {},
   "outputs": [],
   "source": [
    "df_itens_venda = pd.read_excel('../itens_venda.xlsx')\n",
    "df_venda = pd.read_excel('../venda.xlsx')\n",
    "df_cliente  = pd.read_excel('../cliente.xlsx')\n",
    "df_categoria = pd.read_excel('../categoria.xlsx')\n",
    "df_produto = pd.read_excel('../produto.xlsx')"
   ]
  },
  {
   "cell_type": "code",
   "execution_count": null,
   "metadata": {},
   "outputs": [],
   "source": [
    "df_produto.head()"
   ]
  },
  {
   "cell_type": "code",
   "execution_count": null,
   "metadata": {},
   "outputs": [],
   "source": [
    "df_cliente.head()"
   ]
  },
  {
   "cell_type": "code",
   "execution_count": null,
   "metadata": {},
   "outputs": [],
   "source": [
    "def insert_cliente():\n",
    "    for i, row in df_cliente.iterrows():\n",
    "        name = row[\"nome\"]\n",
    "        cursor.execute(f\"INSERT INTO cliente (nome) VALUES ('{name}') ON CONFLICT DO NOTHING\")  # noqa\n",
    "    connection.commit()"
   ]
  },
  {
   "cell_type": "code",
   "execution_count": null,
   "metadata": {},
   "outputs": [],
   "source": [
    "#Adicionando as novas tabela no banco \"my_db\"\n",
    "try:\n",
    "    connection = psycopg2.connect(user = \"my_user\",\n",
    "                                  password = config(\"PASSWORD\"),\n",
    "                                  host = \"127.0.0.1\",\n",
    "                                  port = \"5432\",\n",
    "                                  database = \"my_db\")\n",
    "\n",
    "    cursor = connection.cursor()\n",
    "    # Print PostgreSQL Connection properties\n",
    "    print ( connection.get_dsn_parameters(),\"\\n\")\n",
    "\n",
    "    # Print PostgreSQL version\n",
    "    cursor.execute(\"SELECT version();\")\n",
    "    record = cursor.fetchone()\n",
    "    print(\"You are connected to - \", record,\"\\n\")\n",
    "\n",
    "except (Exception, psycopg2.Error) as error :\n",
    "    print (\"Error while connecting to PostgreSQL\", error)"
   ]
  },
  {
   "cell_type": "code",
   "execution_count": null,
   "metadata": {},
   "outputs": [],
   "source": [
    "cur = connection.cursor()"
   ]
  },
  {
   "cell_type": "code",
   "execution_count": null,
   "metadata": {},
   "outputs": [],
   "source": [
    "insert_cliente()"
   ]
  },
  {
   "cell_type": "code",
   "execution_count": null,
   "metadata": {},
   "outputs": [],
   "source": [
    "df_categoria.head()"
   ]
  },
  {
   "cell_type": "code",
   "execution_count": null,
   "metadata": {},
   "outputs": [],
   "source": [
    "def insert_categoria():\n",
    "    for i, row in df_categoria.iterrows():\n",
    "        name = row[\"categoria\"]\n",
    "        cursor.execute(f\"INSERT INTO categoria (categoria) VALUES ('{name}') ON CONFLICT DO NOTHING\")  # noqa\n",
    "    connection.commit()"
   ]
  },
  {
   "cell_type": "code",
   "execution_count": null,
   "metadata": {},
   "outputs": [],
   "source": [
    "insert_categoria()"
   ]
  },
  {
   "cell_type": "code",
   "execution_count": null,
   "metadata": {},
   "outputs": [],
   "source": [
    "cursor.execute('SELECT * FROM categoria;')\n",
    "cursor.fetchall()"
   ]
  },
  {
   "cell_type": "code",
   "execution_count": null,
   "metadata": {},
   "outputs": [],
   "source": [
    "def get_data(items, field='categoria'):\n",
    "    '''\n",
    "    Lê os dados para extrair id e um outro campo como identificador único\n",
    "    e monta um dicionário.\n",
    "    # https://gist.github.com/rg3915/0f63ee9bde818c4a56abb110c94b855b\n",
    "    '''\n",
    "    my_dict = {}\n",
    "    for item in items:\n",
    "        my_dict[str(item['id'])] = item[field]\n",
    "    return my_dict"
   ]
  },
  {
   "cell_type": "code",
   "execution_count": null,
   "metadata": {},
   "outputs": [],
   "source": [
    "# Monta uma lista de categorias.\n",
    "items = df_categoria.T.apply(dict).tolist()"
   ]
  },
  {
   "cell_type": "code",
   "execution_count": null,
   "metadata": {},
   "outputs": [],
   "source": [
    "# Monta um dicionário de categorias.\n",
    "dict_categoria = get_data(items)"
   ]
  },
  {
   "cell_type": "code",
   "execution_count": null,
   "metadata": {},
   "outputs": [],
   "source": [
    "dict_categoria"
   ]
  },
  {
   "cell_type": "code",
   "execution_count": null,
   "metadata": {},
   "outputs": [],
   "source": [
    "def insert_produto():\n",
    "    for i, row in df_produto.iterrows():\n",
    "        produto = row[\"produto\"]\n",
    "        preco = round(row['preco'] * 5.6, 2)\n",
    "        print(row['categoria_id'])\n",
    "        campo = dict_categoria.get(str(row['categoria_id']))\n",
    "        print(campo)\n",
    "        cursor.execute(f\"SELECT * FROM categoria WHERE categoria='{campo}';\")\n",
    "        categoria = cursor.fetchall()\n",
    "        print(categoria)\n",
    "        print(categoria[0][0])\n",
    "        categoria_id = categoria[0][0]\n",
    "        cursor.execute(f\"INSERT INTO produto (produto, preco, categoria_id) VALUES ('{produto}', '{preco}', '{categoria_id}') ON CONFLICT DO NOTHING\")  # noqa\n",
    "    connection.commit()"
   ]
  },
  {
   "cell_type": "code",
   "execution_count": null,
   "metadata": {},
   "outputs": [],
   "source": [
    "insert_produto()"
   ]
  },
  {
   "cell_type": "code",
   "execution_count": null,
   "metadata": {},
   "outputs": [],
   "source": [
    "lista = [(1, 'Regis'), (2, 'João')]"
   ]
  },
  {
   "cell_type": "code",
   "execution_count": null,
   "metadata": {},
   "outputs": [],
   "source": [
    "lista[0]"
   ]
  },
  {
   "cell_type": "code",
   "execution_count": null,
   "metadata": {},
   "outputs": [],
   "source": [
    "lista[0][1]"
   ]
  },
  {
   "cell_type": "code",
   "execution_count": null,
   "metadata": {},
   "outputs": [],
   "source": [
    "lista[0][0]"
   ]
  },
  {
   "cell_type": "code",
   "execution_count": null,
   "metadata": {},
   "outputs": [],
   "source": [
    "# Monta uma lista de clientes.\n",
    "items_cliente = df_cliente.T.apply(dict).tolist()\n",
    "items_cliente[:1]"
   ]
  },
  {
   "cell_type": "code",
   "execution_count": null,
   "metadata": {},
   "outputs": [],
   "source": [
    "# Monta um dicionário de clientes.\n",
    "dict_cliente = get_data(items=items_cliente, field='nome')\n",
    "dict_cliente"
   ]
  },
  {
   "cell_type": "code",
   "execution_count": null,
   "metadata": {},
   "outputs": [],
   "source": [
    "def insert_venda():\n",
    "    for i, row in df_venda.iterrows():\n",
    "        print(row)\n",
    "        data = row['data']\n",
    "        campo = dict_cliente.get(str(row['cliente_id']))\n",
    "        print(campo)\n",
    "        cursor.execute(f\"SELECT * FROM cliente WHERE nome='{campo}';\")\n",
    "        cliente = cursor.fetchall()\n",
    "        print(cliente)\n",
    "        print(cliente[0][0])\n",
    "        cliente_id = cliente[0][0]\n",
    "        slug = row['slug']\n",
    "        cursor.execute(f\"INSERT INTO venda (data, cliente_id, slug) VALUES ('{data}', '{cliente_id}', '{slug}') ON CONFLICT DO NOTHING\")  # noqa\n",
    "    connection.commit()\n",
    "insert_venda()"
   ]
  },
  {
   "cell_type": "code",
   "execution_count": null,
   "metadata": {},
   "outputs": [],
   "source": [
    "# Monta uma lista de vendas.\n",
    "items_venda = df_venda.T.apply(dict).tolist()\n",
    "items_venda[:2]"
   ]
  },
  {
   "cell_type": "code",
   "execution_count": null,
   "metadata": {},
   "outputs": [],
   "source": [
    "# Monta um dicionário de vendas.\n",
    "dict_venda = get_data(items=items_venda, field='slug')\n",
    "dict_venda"
   ]
  },
  {
   "cell_type": "code",
   "execution_count": null,
   "metadata": {},
   "outputs": [],
   "source": [
    "# Monta uma lista de produtos.\n",
    "items_produto = df_produto.T.apply(dict).tolist()\n",
    "items_produto[:2]"
   ]
  },
  {
   "cell_type": "code",
   "execution_count": null,
   "metadata": {},
   "outputs": [],
   "source": [
    "# Monta um dicionário de produtos.\n",
    "dict_produto = get_data(items=items_produto, field='produto')\n",
    "dict_produto"
   ]
  },
  {
   "cell_type": "code",
   "execution_count": null,
   "metadata": {},
   "outputs": [],
   "source": [
    "def insert_itens_venda():\n",
    "    for i, row in df_itens_venda.iterrows():\n",
    "        quantidade = int(row['quantidade'])\n",
    "        preco_venda = row['preco_venda']\n",
    "        venda_id = str(row['venda_id']).replace('.0', '')\n",
    "        print(venda_id)\n",
    "        venda = dict_venda.get(venda_id)\n",
    "        cursor.execute(f\"SELECT * FROM venda WHERE slug='{venda}';\")\n",
    "        venda = cursor.fetchall()\n",
    "        venda_id = venda[0][0]\n",
    "        produto_id = str(row['produto_id']).replace('.0', '')\n",
    "        print(produto_id)\n",
    "        produto = dict_produto.get(produto_id)\n",
    "        cursor.execute(f\"SELECT * FROM produto WHERE produto='{produto}';\")\n",
    "        produto = cursor.fetchall()\n",
    "        print(produto)\n",
    "        produto_id = produto[0][0]\n",
    "        cursor.execute(f\"INSERT INTO itens_venda (quantidade, preco_venda, venda_id, produto_id) VALUES ('{quantidade}', '{preco_venda}', '{venda_id}', '{produto_id}') ON CONFLICT DO NOTHING\")  # noqa\n",
    "    connection.commit()\n",
    "insert_itens_venda()"
   ]
  },
  {
   "cell_type": "code",
   "execution_count": null,
   "metadata": {},
   "outputs": [],
   "source": [
    "lista2 = ['A', 'B', 'C']"
   ]
  },
  {
   "cell_type": "code",
   "execution_count": null,
   "metadata": {},
   "outputs": [],
   "source": [
    "lista2[0]"
   ]
  },
  {
   "cell_type": "code",
   "execution_count": null,
   "metadata": {},
   "outputs": [],
   "source": [
    "lista2[1]"
   ]
  },
  {
   "cell_type": "code",
   "execution_count": null,
   "metadata": {},
   "outputs": [],
   "source": [
    "lista2[2]"
   ]
  },
  {
   "cell_type": "code",
   "execution_count": null,
   "metadata": {},
   "outputs": [],
   "source": [
    "# Fim Deu tudo certo!"
   ]
  },
  {
   "cell_type": "code",
   "execution_count": null,
   "metadata": {},
   "outputs": [],
   "source": [
    "lista2[3]  # era um teste"
   ]
  },
  {
   "cell_type": "code",
   "execution_count": null,
   "metadata": {},
   "outputs": [],
   "source": []
  }
 ],
 "metadata": {
  "kernelspec": {
   "display_name": "Python 3",
   "language": "python",
   "name": "python3"
  },
  "language_info": {
   "codemirror_mode": {
    "name": "ipython",
    "version": 3
   },
   "file_extension": ".py",
   "mimetype": "text/x-python",
   "name": "python",
   "nbconvert_exporter": "python",
   "pygments_lexer": "ipython3",
   "version": "3.8.2"
  }
 },
 "nbformat": 4,
 "nbformat_minor": 4
}
