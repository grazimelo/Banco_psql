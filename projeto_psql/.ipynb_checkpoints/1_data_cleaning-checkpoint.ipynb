{
 "cells": [
  {
   "cell_type": "markdown",
   "metadata": {},
   "source": [
    "# Dependências "
   ]
  },
  {
   "cell_type": "markdown",
   "metadata": {},
   "source": [
    "## Biblioteca"
   ]
  },
  {
   "cell_type": "code",
   "execution_count": 1,
   "metadata": {
    "ExecuteTime": {
     "end_time": "2020-10-09T00:46:11.759425Z",
     "start_time": "2020-10-09T00:46:10.811249Z"
    }
   },
   "outputs": [],
   "source": [
    "import os\n",
    "import pandas as pd\n",
    "import numpy as np\n",
    "import seaborn as sns\n",
    "#import missingno as msno\n",
    "pd.set_option('display.max_rows', 500)\n",
    "pd.set_option('display.max_columns', 500)\n",
    "pd.set_option('display.width', 1000)\n",
    "%matplotlib inline"
   ]
  },
  {
   "cell_type": "markdown",
   "metadata": {},
   "source": [
    "## Dados e Constantes"
   ]
  },
  {
   "cell_type": "code",
   "execution_count": 2,
   "metadata": {
    "ExecuteTime": {
     "end_time": "2020-10-09T00:46:18.795803Z",
     "start_time": "2020-10-09T00:46:16.988672Z"
    }
   },
   "outputs": [],
   "source": [
    "df_raw = pd.read_excel('default_credit_card_clients.xls',header=[1])"
   ]
  },
  {
   "cell_type": "markdown",
   "metadata": {},
   "source": [
    "# Split dos dados em treino e teste"
   ]
  },
  {
   "cell_type": "code",
   "execution_count": 3,
   "metadata": {
    "ExecuteTime": {
     "end_time": "2020-10-09T00:46:39.229821Z",
     "start_time": "2020-10-09T00:46:39.151205Z"
    }
   },
   "outputs": [
    {
     "ename": "NameError",
     "evalue": "name 'df_train' is not defined",
     "output_type": "error",
     "traceback": [
      "\u001b[0;31m---------------------------------------------------------------------------\u001b[0m",
      "\u001b[0;31mNameError\u001b[0m                                 Traceback (most recent call last)",
      "\u001b[0;32m<ipython-input-3-75ab5bd31383>\u001b[0m in \u001b[0;36m<module>\u001b[0;34m\u001b[0m\n\u001b[1;32m      1\u001b[0m \u001b[0;31m#Lendo dataset de treino\u001b[0m\u001b[0;34m\u001b[0m\u001b[0;34m\u001b[0m\u001b[0;34m\u001b[0m\u001b[0m\n\u001b[0;32m----> 2\u001b[0;31m \u001b[0mdf_train\u001b[0m\u001b[0;34m.\u001b[0m\u001b[0mhead\u001b[0m\u001b[0;34m(\u001b[0m\u001b[0;34m)\u001b[0m\u001b[0;34m\u001b[0m\u001b[0;34m\u001b[0m\u001b[0m\n\u001b[0m",
      "\u001b[0;31mNameError\u001b[0m: name 'df_train' is not defined"
     ]
    }
   ],
   "source": [
    "#Lendo dataset de treino\n",
    "df_train.head()"
   ]
  },
  {
   "cell_type": "code",
   "execution_count": 7,
   "metadata": {
    "ExecuteTime": {
     "end_time": "2020-09-13T17:33:17.947512Z",
     "start_time": "2020-09-13T17:33:17.832412Z"
    }
   },
   "outputs": [
    {
     "data": {
      "text/plain": [
       "(24000, 25)"
      ]
     },
     "execution_count": 7,
     "metadata": {},
     "output_type": "execute_result"
    }
   ],
   "source": [
    "df_train.shape"
   ]
  },
  {
   "cell_type": "markdown",
   "metadata": {},
   "source": [
    "# Limpeza"
   ]
  },
  {
   "cell_type": "code",
   "execution_count": 8,
   "metadata": {
    "ExecuteTime": {
     "end_time": "2020-09-14T00:07:30.539108Z",
     "start_time": "2020-09-14T00:07:30.533717Z"
    }
   },
   "outputs": [],
   "source": [
    "#Criando dicionário para os tipos das variáveis.\n",
    "dicionario_tipo = {}\n",
    "dicionario_tipo['ID'] = 'object' # Identificação do Cliente\n",
    "dicionario_tipo['LIMIT_BAL'] = 'float'# Crédito concedido em dolar \n",
    "dicionario_tipo['SEX'] = 'object'#Sexo Masculino 1,feminino 2 \n",
    "dicionario_tipo['EDUCATION'] = 'object' #Nível de escolaridade pósgraduação 1, universidade 2, ensino médio 3, outros 4.\n",
    "dicionario_tipo['MARRIAGE'] = 'object' #Estado civil, casado 1, solteiro 2, outros,3\n",
    "dicionario_tipo['AGE'] = 'int' #Idade em anos\n",
    "dicionario_tipo['PAY_0'] = 'int' # -1 = pagamento em dia; 1 = atraso no pagamento por um mês; 2 = atraso no pagamento por dois meses; . . .; 8 = atraso no pagamento por oito meses; 9 = atraso no pagamento de nove meses ou mais.\n",
    "dicionario_tipo['PAY_2'] = 'int'\n",
    "dicionario_tipo['PAY_3'] = 'int'\n",
    "dicionario_tipo['PAY_4'] = 'int'\n",
    "dicionario_tipo['PAY_5'] = 'int'\n",
    "dicionario_tipo['PAY_6'] = 'int'\n",
    "dicionario_tipo['BILL_AMT1'] = 'float' # Valor do extrato da fatura(em dólar) de Setembro a Abril de 2005\n",
    "dicionario_tipo['BILL_AMT2'] ='float'\n",
    "dicionario_tipo['BILL_AMT3'] ='float'\n",
    "dicionario_tipo['BILL_AMT4'] ='float'\n",
    "dicionario_tipo['BILL_AMT5'] ='float'\n",
    "dicionario_tipo['BILL_AMT6'] ='float'\n",
    "dicionario_tipo['PAY_AMT3'] = 'float' #Valor do pagamento anterior (em dólar) Setembro a Abril de 2005\n",
    "dicionario_tipo['PAY_AMT3'] = 'float'\n",
    "dicionario_tipo['PAY_AMT3'] ='floar'\n",
    "dicionario_tipo['PAY_AMT3'] ='float'\n",
    "dicionario_tipo['PAY_AMT3'] ='float' \n",
    "dicionario_tipo['default payment next month'] = 'object' # (0=Não, 1=Sim) cliente default no mês seguinte (Outubro)"
   ]
  },
  {
   "cell_type": "code",
   "execution_count": 9,
   "metadata": {
    "ExecuteTime": {
     "end_time": "2020-09-14T00:07:31.154211Z",
     "start_time": "2020-09-14T00:07:31.126003Z"
    }
   },
   "outputs": [
    {
     "data": {
      "text/html": [
       "<div>\n",
       "<style scoped>\n",
       "    .dataframe tbody tr th:only-of-type {\n",
       "        vertical-align: middle;\n",
       "    }\n",
       "\n",
       "    .dataframe tbody tr th {\n",
       "        vertical-align: top;\n",
       "    }\n",
       "\n",
       "    .dataframe thead th {\n",
       "        text-align: right;\n",
       "    }\n",
       "</style>\n",
       "<table border=\"1\" class=\"dataframe\">\n",
       "  <thead>\n",
       "    <tr style=\"text-align: right;\">\n",
       "      <th></th>\n",
       "      <th>ID</th>\n",
       "      <th>LIMIT_BAL</th>\n",
       "      <th>SEX</th>\n",
       "      <th>EDUCATION</th>\n",
       "      <th>MARRIAGE</th>\n",
       "      <th>AGE</th>\n",
       "      <th>PAY_0</th>\n",
       "      <th>PAY_2</th>\n",
       "      <th>PAY_3</th>\n",
       "      <th>PAY_4</th>\n",
       "      <th>PAY_5</th>\n",
       "      <th>PAY_6</th>\n",
       "      <th>BILL_AMT1</th>\n",
       "      <th>BILL_AMT2</th>\n",
       "      <th>BILL_AMT3</th>\n",
       "      <th>BILL_AMT4</th>\n",
       "      <th>BILL_AMT5</th>\n",
       "      <th>BILL_AMT6</th>\n",
       "      <th>PAY_AMT1</th>\n",
       "      <th>PAY_AMT2</th>\n",
       "      <th>PAY_AMT3</th>\n",
       "      <th>PAY_AMT4</th>\n",
       "      <th>PAY_AMT5</th>\n",
       "      <th>PAY_AMT6</th>\n",
       "      <th>default payment next month</th>\n",
       "    </tr>\n",
       "  </thead>\n",
       "  <tbody>\n",
       "    <tr>\n",
       "      <th>23833</th>\n",
       "      <td>23834</td>\n",
       "      <td>80000</td>\n",
       "      <td>2</td>\n",
       "      <td>3</td>\n",
       "      <td>1</td>\n",
       "      <td>50</td>\n",
       "      <td>2</td>\n",
       "      <td>3</td>\n",
       "      <td>2</td>\n",
       "      <td>2</td>\n",
       "      <td>2</td>\n",
       "      <td>0</td>\n",
       "      <td>2684</td>\n",
       "      <td>2502</td>\n",
       "      <td>2321</td>\n",
       "      <td>4247</td>\n",
       "      <td>3914</td>\n",
       "      <td>3242</td>\n",
       "      <td>0</td>\n",
       "      <td>0</td>\n",
       "      <td>2001</td>\n",
       "      <td>4</td>\n",
       "      <td>1073</td>\n",
       "      <td>23076</td>\n",
       "      <td>0</td>\n",
       "    </tr>\n",
       "    <tr>\n",
       "      <th>27012</th>\n",
       "      <td>27013</td>\n",
       "      <td>500000</td>\n",
       "      <td>1</td>\n",
       "      <td>1</td>\n",
       "      <td>1</td>\n",
       "      <td>43</td>\n",
       "      <td>0</td>\n",
       "      <td>0</td>\n",
       "      <td>0</td>\n",
       "      <td>0</td>\n",
       "      <td>0</td>\n",
       "      <td>0</td>\n",
       "      <td>124362</td>\n",
       "      <td>126860</td>\n",
       "      <td>129576</td>\n",
       "      <td>129863</td>\n",
       "      <td>120781</td>\n",
       "      <td>98163</td>\n",
       "      <td>4567</td>\n",
       "      <td>4787</td>\n",
       "      <td>4745</td>\n",
       "      <td>4256</td>\n",
       "      <td>3321</td>\n",
       "      <td>3326</td>\n",
       "      <td>0</td>\n",
       "    </tr>\n",
       "    <tr>\n",
       "      <th>12496</th>\n",
       "      <td>12497</td>\n",
       "      <td>60000</td>\n",
       "      <td>2</td>\n",
       "      <td>1</td>\n",
       "      <td>2</td>\n",
       "      <td>31</td>\n",
       "      <td>0</td>\n",
       "      <td>-1</td>\n",
       "      <td>2</td>\n",
       "      <td>2</td>\n",
       "      <td>2</td>\n",
       "      <td>2</td>\n",
       "      <td>3610</td>\n",
       "      <td>855</td>\n",
       "      <td>111</td>\n",
       "      <td>411</td>\n",
       "      <td>261</td>\n",
       "      <td>6695</td>\n",
       "      <td>900</td>\n",
       "      <td>0</td>\n",
       "      <td>300</td>\n",
       "      <td>0</td>\n",
       "      <td>6500</td>\n",
       "      <td>0</td>\n",
       "      <td>0</td>\n",
       "    </tr>\n",
       "    <tr>\n",
       "      <th>25519</th>\n",
       "      <td>25520</td>\n",
       "      <td>280000</td>\n",
       "      <td>2</td>\n",
       "      <td>2</td>\n",
       "      <td>2</td>\n",
       "      <td>34</td>\n",
       "      <td>-1</td>\n",
       "      <td>-1</td>\n",
       "      <td>2</td>\n",
       "      <td>-1</td>\n",
       "      <td>-1</td>\n",
       "      <td>-1</td>\n",
       "      <td>38</td>\n",
       "      <td>34163</td>\n",
       "      <td>32800</td>\n",
       "      <td>131200</td>\n",
       "      <td>3950</td>\n",
       "      <td>0</td>\n",
       "      <td>34163</td>\n",
       "      <td>0</td>\n",
       "      <td>131200</td>\n",
       "      <td>3950</td>\n",
       "      <td>0</td>\n",
       "      <td>716</td>\n",
       "      <td>0</td>\n",
       "    </tr>\n",
       "    <tr>\n",
       "      <th>18880</th>\n",
       "      <td>18881</td>\n",
       "      <td>400000</td>\n",
       "      <td>2</td>\n",
       "      <td>1</td>\n",
       "      <td>2</td>\n",
       "      <td>30</td>\n",
       "      <td>-2</td>\n",
       "      <td>-2</td>\n",
       "      <td>-1</td>\n",
       "      <td>-1</td>\n",
       "      <td>0</td>\n",
       "      <td>0</td>\n",
       "      <td>2912</td>\n",
       "      <td>2668</td>\n",
       "      <td>3222</td>\n",
       "      <td>21755</td>\n",
       "      <td>15258</td>\n",
       "      <td>16002</td>\n",
       "      <td>2668</td>\n",
       "      <td>3222</td>\n",
       "      <td>21755</td>\n",
       "      <td>500</td>\n",
       "      <td>1000</td>\n",
       "      <td>475</td>\n",
       "      <td>0</td>\n",
       "    </tr>\n",
       "  </tbody>\n",
       "</table>\n",
       "</div>"
      ],
      "text/plain": [
       "          ID  LIMIT_BAL  SEX  EDUCATION  MARRIAGE  AGE  PAY_0  PAY_2  PAY_3  PAY_4  PAY_5  PAY_6  BILL_AMT1  BILL_AMT2  BILL_AMT3  BILL_AMT4  BILL_AMT5  BILL_AMT6  PAY_AMT1  PAY_AMT2  PAY_AMT3  PAY_AMT4  PAY_AMT5  PAY_AMT6  default payment next month\n",
       "23833  23834      80000    2          3         1   50      2      3      2      2      2      0       2684       2502       2321       4247       3914       3242         0         0      2001         4      1073     23076                           0\n",
       "27012  27013     500000    1          1         1   43      0      0      0      0      0      0     124362     126860     129576     129863     120781      98163      4567      4787      4745      4256      3321      3326                           0\n",
       "12496  12497      60000    2          1         2   31      0     -1      2      2      2      2       3610        855        111        411        261       6695       900         0       300         0      6500         0                           0\n",
       "25519  25520     280000    2          2         2   34     -1     -1      2     -1     -1     -1         38      34163      32800     131200       3950          0     34163         0    131200      3950         0       716                           0\n",
       "18880  18881     400000    2          1         2   30     -2     -2     -1     -1      0      0       2912       2668       3222      21755      15258      16002      2668      3222     21755       500      1000       475                           0"
      ]
     },
     "execution_count": 9,
     "metadata": {},
     "output_type": "execute_result"
    }
   ],
   "source": [
    "df_train.head()"
   ]
  },
  {
   "cell_type": "code",
   "execution_count": 10,
   "metadata": {
    "ExecuteTime": {
     "end_time": "2020-09-14T00:07:31.789649Z",
     "start_time": "2020-09-14T00:07:31.731202Z"
    }
   },
   "outputs": [],
   "source": [
    "#Removendo a coluna Indentificador_Agricultor por ser um valor único. \n",
    "lista_to_drop = ['ID']\n",
    "df_train.drop(lista_to_drop, axis=1, inplace=True)"
   ]
  },
  {
   "cell_type": "code",
   "execution_count": 11,
   "metadata": {
    "ExecuteTime": {
     "end_time": "2020-09-14T00:07:39.819869Z",
     "start_time": "2020-09-14T00:07:32.296643Z"
    }
   },
   "outputs": [
    {
     "name": "stdout",
     "output_type": "stream",
     "text": [
      "Removendo...\n",
      "Existem 0 colunas duplicadas e 0 linhas duplicadas\n",
      "Colunas duplicadas:\n",
      "[]\n"
     ]
    }
   ],
   "source": [
    "#Observando e removendo duplicatas nas linhas e colunas. \n",
    "df_T, lista_removidas = remover_duplicatas(df_train)"
   ]
  },
  {
   "cell_type": "code",
   "execution_count": 12,
   "metadata": {
    "ExecuteTime": {
     "end_time": "2020-09-14T00:07:39.884836Z",
     "start_time": "2020-09-14T00:07:39.880521Z"
    }
   },
   "outputs": [
    {
     "data": {
      "text/plain": [
       "Index(['LIMIT_BAL', 'SEX', 'EDUCATION', 'MARRIAGE', 'AGE', 'PAY_0', 'PAY_2', 'PAY_3', 'PAY_4', 'PAY_5', 'PAY_6', 'BILL_AMT1', 'BILL_AMT2', 'BILL_AMT3', 'BILL_AMT4', 'BILL_AMT5', 'BILL_AMT6', 'PAY_AMT1', 'PAY_AMT2', 'PAY_AMT3', 'PAY_AMT4', 'PAY_AMT5', 'PAY_AMT6', 'default payment next month'], dtype='object')"
      ]
     },
     "execution_count": 12,
     "metadata": {},
     "output_type": "execute_result"
    }
   ],
   "source": [
    "#Observando todas as columas no dataset de treino.\n",
    "df_train.columns"
   ]
  },
  {
   "cell_type": "code",
   "execution_count": 13,
   "metadata": {
    "ExecuteTime": {
     "end_time": "2020-09-14T00:07:40.177165Z",
     "start_time": "2020-09-14T00:07:39.929149Z"
    }
   },
   "outputs": [],
   "source": [
    "#Convertendo valores faltosos para np.nan, para que haja um padrão de null no data_set. \n",
    "df_train.replace([None, 'Null', 'null','NULL', -np.inf, np.inf],np.nan,inplace=True)"
   ]
  },
  {
   "cell_type": "code",
   "execution_count": 14,
   "metadata": {
    "ExecuteTime": {
     "end_time": "2020-09-14T00:07:40.510957Z",
     "start_time": "2020-09-14T00:07:40.259612Z"
    }
   },
   "outputs": [
    {
     "data": {
      "text/html": [
       "<div>\n",
       "<style scoped>\n",
       "    .dataframe tbody tr th:only-of-type {\n",
       "        vertical-align: middle;\n",
       "    }\n",
       "\n",
       "    .dataframe tbody tr th {\n",
       "        vertical-align: top;\n",
       "    }\n",
       "\n",
       "    .dataframe thead th {\n",
       "        text-align: right;\n",
       "    }\n",
       "</style>\n",
       "<table border=\"1\" class=\"dataframe\">\n",
       "  <thead>\n",
       "    <tr style=\"text-align: right;\">\n",
       "      <th></th>\n",
       "      <th>LIMIT_BAL</th>\n",
       "      <th>SEX</th>\n",
       "      <th>EDUCATION</th>\n",
       "      <th>MARRIAGE</th>\n",
       "      <th>AGE</th>\n",
       "      <th>PAY_0</th>\n",
       "      <th>PAY_2</th>\n",
       "      <th>PAY_3</th>\n",
       "      <th>PAY_4</th>\n",
       "      <th>PAY_5</th>\n",
       "      <th>PAY_6</th>\n",
       "      <th>BILL_AMT1</th>\n",
       "      <th>BILL_AMT2</th>\n",
       "      <th>BILL_AMT3</th>\n",
       "      <th>BILL_AMT4</th>\n",
       "      <th>BILL_AMT5</th>\n",
       "      <th>BILL_AMT6</th>\n",
       "      <th>PAY_AMT1</th>\n",
       "      <th>PAY_AMT2</th>\n",
       "      <th>PAY_AMT3</th>\n",
       "      <th>PAY_AMT4</th>\n",
       "      <th>PAY_AMT5</th>\n",
       "      <th>PAY_AMT6</th>\n",
       "      <th>default payment next month</th>\n",
       "    </tr>\n",
       "  </thead>\n",
       "  <tbody>\n",
       "    <tr>\n",
       "      <th>count</th>\n",
       "      <td>24000.000000</td>\n",
       "      <td>24000.000000</td>\n",
       "      <td>24000.000000</td>\n",
       "      <td>24000.000000</td>\n",
       "      <td>24000.000000</td>\n",
       "      <td>24000.000000</td>\n",
       "      <td>24000.000000</td>\n",
       "      <td>24000.000000</td>\n",
       "      <td>24000.000000</td>\n",
       "      <td>24000.000000</td>\n",
       "      <td>24000.000000</td>\n",
       "      <td>24000.000000</td>\n",
       "      <td>24000.000000</td>\n",
       "      <td>2.400000e+04</td>\n",
       "      <td>24000.000000</td>\n",
       "      <td>24000.000000</td>\n",
       "      <td>24000.000000</td>\n",
       "      <td>24000.000000</td>\n",
       "      <td>2.400000e+04</td>\n",
       "      <td>24000.000000</td>\n",
       "      <td>24000.000000</td>\n",
       "      <td>24000.000000</td>\n",
       "      <td>24000.000000</td>\n",
       "      <td>24000.000000</td>\n",
       "    </tr>\n",
       "    <tr>\n",
       "      <th>mean</th>\n",
       "      <td>167540.570000</td>\n",
       "      <td>1.602458</td>\n",
       "      <td>1.854958</td>\n",
       "      <td>1.550958</td>\n",
       "      <td>35.488708</td>\n",
       "      <td>-0.014917</td>\n",
       "      <td>-0.128917</td>\n",
       "      <td>-0.164625</td>\n",
       "      <td>-0.216750</td>\n",
       "      <td>-0.260375</td>\n",
       "      <td>-0.287250</td>\n",
       "      <td>51307.468125</td>\n",
       "      <td>49269.970750</td>\n",
       "      <td>4.717078e+04</td>\n",
       "      <td>43523.790583</td>\n",
       "      <td>40637.865917</td>\n",
       "      <td>39066.362042</td>\n",
       "      <td>5634.156792</td>\n",
       "      <td>5.945949e+03</td>\n",
       "      <td>5271.342292</td>\n",
       "      <td>4870.824917</td>\n",
       "      <td>4719.293250</td>\n",
       "      <td>5149.885625</td>\n",
       "      <td>0.221208</td>\n",
       "    </tr>\n",
       "    <tr>\n",
       "      <th>std</th>\n",
       "      <td>130048.776196</td>\n",
       "      <td>0.489400</td>\n",
       "      <td>0.788689</td>\n",
       "      <td>0.522970</td>\n",
       "      <td>9.232362</td>\n",
       "      <td>1.130006</td>\n",
       "      <td>1.202785</td>\n",
       "      <td>1.201839</td>\n",
       "      <td>1.176787</td>\n",
       "      <td>1.140344</td>\n",
       "      <td>1.154719</td>\n",
       "      <td>73611.245403</td>\n",
       "      <td>71183.287407</td>\n",
       "      <td>6.954015e+04</td>\n",
       "      <td>64666.660209</td>\n",
       "      <td>61315.330765</td>\n",
       "      <td>60009.737947</td>\n",
       "      <td>16206.417364</td>\n",
       "      <td>2.419414e+04</td>\n",
       "      <td>18175.286987</td>\n",
       "      <td>16181.754055</td>\n",
       "      <td>14646.244363</td>\n",
       "      <td>17536.082739</td>\n",
       "      <td>0.415069</td>\n",
       "    </tr>\n",
       "    <tr>\n",
       "      <th>min</th>\n",
       "      <td>10000.000000</td>\n",
       "      <td>1.000000</td>\n",
       "      <td>0.000000</td>\n",
       "      <td>0.000000</td>\n",
       "      <td>21.000000</td>\n",
       "      <td>-2.000000</td>\n",
       "      <td>-2.000000</td>\n",
       "      <td>-2.000000</td>\n",
       "      <td>-2.000000</td>\n",
       "      <td>-2.000000</td>\n",
       "      <td>-2.000000</td>\n",
       "      <td>-154973.000000</td>\n",
       "      <td>-69777.000000</td>\n",
       "      <td>-1.572640e+05</td>\n",
       "      <td>-170000.000000</td>\n",
       "      <td>-28335.000000</td>\n",
       "      <td>-339603.000000</td>\n",
       "      <td>0.000000</td>\n",
       "      <td>0.000000e+00</td>\n",
       "      <td>0.000000</td>\n",
       "      <td>0.000000</td>\n",
       "      <td>0.000000</td>\n",
       "      <td>0.000000</td>\n",
       "      <td>0.000000</td>\n",
       "    </tr>\n",
       "    <tr>\n",
       "      <th>25%</th>\n",
       "      <td>50000.000000</td>\n",
       "      <td>1.000000</td>\n",
       "      <td>1.000000</td>\n",
       "      <td>1.000000</td>\n",
       "      <td>28.000000</td>\n",
       "      <td>-1.000000</td>\n",
       "      <td>-1.000000</td>\n",
       "      <td>-1.000000</td>\n",
       "      <td>-1.000000</td>\n",
       "      <td>-1.000000</td>\n",
       "      <td>-1.000000</td>\n",
       "      <td>3509.750000</td>\n",
       "      <td>2958.500000</td>\n",
       "      <td>2.656500e+03</td>\n",
       "      <td>2328.250000</td>\n",
       "      <td>1789.250000</td>\n",
       "      <td>1287.000000</td>\n",
       "      <td>1000.000000</td>\n",
       "      <td>8.500000e+02</td>\n",
       "      <td>390.000000</td>\n",
       "      <td>299.000000</td>\n",
       "      <td>257.750000</td>\n",
       "      <td>114.750000</td>\n",
       "      <td>0.000000</td>\n",
       "    </tr>\n",
       "    <tr>\n",
       "      <th>50%</th>\n",
       "      <td>140000.000000</td>\n",
       "      <td>2.000000</td>\n",
       "      <td>2.000000</td>\n",
       "      <td>2.000000</td>\n",
       "      <td>34.000000</td>\n",
       "      <td>0.000000</td>\n",
       "      <td>0.000000</td>\n",
       "      <td>0.000000</td>\n",
       "      <td>0.000000</td>\n",
       "      <td>0.000000</td>\n",
       "      <td>0.000000</td>\n",
       "      <td>22462.500000</td>\n",
       "      <td>21323.500000</td>\n",
       "      <td>2.013300e+04</td>\n",
       "      <td>19088.000000</td>\n",
       "      <td>18167.500000</td>\n",
       "      <td>17134.000000</td>\n",
       "      <td>2100.500000</td>\n",
       "      <td>2.011000e+03</td>\n",
       "      <td>1800.000000</td>\n",
       "      <td>1500.000000</td>\n",
       "      <td>1500.000000</td>\n",
       "      <td>1500.000000</td>\n",
       "      <td>0.000000</td>\n",
       "    </tr>\n",
       "    <tr>\n",
       "      <th>75%</th>\n",
       "      <td>240000.000000</td>\n",
       "      <td>2.000000</td>\n",
       "      <td>2.000000</td>\n",
       "      <td>2.000000</td>\n",
       "      <td>41.000000</td>\n",
       "      <td>0.000000</td>\n",
       "      <td>0.000000</td>\n",
       "      <td>0.000000</td>\n",
       "      <td>0.000000</td>\n",
       "      <td>0.000000</td>\n",
       "      <td>0.000000</td>\n",
       "      <td>67573.250000</td>\n",
       "      <td>64464.750000</td>\n",
       "      <td>6.073325e+04</td>\n",
       "      <td>55133.500000</td>\n",
       "      <td>50540.000000</td>\n",
       "      <td>49469.250000</td>\n",
       "      <td>5007.000000</td>\n",
       "      <td>5.000000e+03</td>\n",
       "      <td>4510.500000</td>\n",
       "      <td>4001.000000</td>\n",
       "      <td>4006.000000</td>\n",
       "      <td>4000.000000</td>\n",
       "      <td>0.000000</td>\n",
       "    </tr>\n",
       "    <tr>\n",
       "      <th>max</th>\n",
       "      <td>1000000.000000</td>\n",
       "      <td>2.000000</td>\n",
       "      <td>6.000000</td>\n",
       "      <td>3.000000</td>\n",
       "      <td>79.000000</td>\n",
       "      <td>8.000000</td>\n",
       "      <td>8.000000</td>\n",
       "      <td>8.000000</td>\n",
       "      <td>8.000000</td>\n",
       "      <td>8.000000</td>\n",
       "      <td>8.000000</td>\n",
       "      <td>964511.000000</td>\n",
       "      <td>983931.000000</td>\n",
       "      <td>1.664089e+06</td>\n",
       "      <td>891586.000000</td>\n",
       "      <td>927171.000000</td>\n",
       "      <td>961664.000000</td>\n",
       "      <td>873552.000000</td>\n",
       "      <td>1.684259e+06</td>\n",
       "      <td>896040.000000</td>\n",
       "      <td>621000.000000</td>\n",
       "      <td>426529.000000</td>\n",
       "      <td>528666.000000</td>\n",
       "      <td>1.000000</td>\n",
       "    </tr>\n",
       "  </tbody>\n",
       "</table>\n",
       "</div>"
      ],
      "text/plain": [
       "            LIMIT_BAL           SEX     EDUCATION      MARRIAGE           AGE         PAY_0         PAY_2         PAY_3         PAY_4         PAY_5         PAY_6      BILL_AMT1      BILL_AMT2     BILL_AMT3      BILL_AMT4      BILL_AMT5      BILL_AMT6       PAY_AMT1      PAY_AMT2       PAY_AMT3       PAY_AMT4       PAY_AMT5       PAY_AMT6  default payment next month\n",
       "count    24000.000000  24000.000000  24000.000000  24000.000000  24000.000000  24000.000000  24000.000000  24000.000000  24000.000000  24000.000000  24000.000000   24000.000000   24000.000000  2.400000e+04   24000.000000   24000.000000   24000.000000   24000.000000  2.400000e+04   24000.000000   24000.000000   24000.000000   24000.000000                24000.000000\n",
       "mean    167540.570000      1.602458      1.854958      1.550958     35.488708     -0.014917     -0.128917     -0.164625     -0.216750     -0.260375     -0.287250   51307.468125   49269.970750  4.717078e+04   43523.790583   40637.865917   39066.362042    5634.156792  5.945949e+03    5271.342292    4870.824917    4719.293250    5149.885625                    0.221208\n",
       "std     130048.776196      0.489400      0.788689      0.522970      9.232362      1.130006      1.202785      1.201839      1.176787      1.140344      1.154719   73611.245403   71183.287407  6.954015e+04   64666.660209   61315.330765   60009.737947   16206.417364  2.419414e+04   18175.286987   16181.754055   14646.244363   17536.082739                    0.415069\n",
       "min      10000.000000      1.000000      0.000000      0.000000     21.000000     -2.000000     -2.000000     -2.000000     -2.000000     -2.000000     -2.000000 -154973.000000  -69777.000000 -1.572640e+05 -170000.000000  -28335.000000 -339603.000000       0.000000  0.000000e+00       0.000000       0.000000       0.000000       0.000000                    0.000000\n",
       "25%      50000.000000      1.000000      1.000000      1.000000     28.000000     -1.000000     -1.000000     -1.000000     -1.000000     -1.000000     -1.000000    3509.750000    2958.500000  2.656500e+03    2328.250000    1789.250000    1287.000000    1000.000000  8.500000e+02     390.000000     299.000000     257.750000     114.750000                    0.000000\n",
       "50%     140000.000000      2.000000      2.000000      2.000000     34.000000      0.000000      0.000000      0.000000      0.000000      0.000000      0.000000   22462.500000   21323.500000  2.013300e+04   19088.000000   18167.500000   17134.000000    2100.500000  2.011000e+03    1800.000000    1500.000000    1500.000000    1500.000000                    0.000000\n",
       "75%     240000.000000      2.000000      2.000000      2.000000     41.000000      0.000000      0.000000      0.000000      0.000000      0.000000      0.000000   67573.250000   64464.750000  6.073325e+04   55133.500000   50540.000000   49469.250000    5007.000000  5.000000e+03    4510.500000    4001.000000    4006.000000    4000.000000                    0.000000\n",
       "max    1000000.000000      2.000000      6.000000      3.000000     79.000000      8.000000      8.000000      8.000000      8.000000      8.000000      8.000000  964511.000000  983931.000000  1.664089e+06  891586.000000  927171.000000  961664.000000  873552.000000  1.684259e+06  896040.000000  621000.000000  426529.000000  528666.000000                    1.000000"
      ]
     },
     "execution_count": 14,
     "metadata": {},
     "output_type": "execute_result"
    }
   ],
   "source": [
    "#Observando distribuições das variáveis. \n",
    "df_train.describe()"
   ]
  },
  {
   "cell_type": "code",
   "execution_count": 15,
   "metadata": {
    "ExecuteTime": {
     "end_time": "2020-09-14T00:07:40.635916Z",
     "start_time": "2020-09-14T00:07:40.558827Z"
    }
   },
   "outputs": [],
   "source": [
    "#Tratando dados inconsistentes para 'Education'.\n",
    "lista_education = [0,5,6]\n",
    "lista_subst1 = [4,4,4]\n",
    "df_train['EDUCATION'] = df_train['EDUCATION'].replace(lista_education,lista_subst1)"
   ]
  },
  {
   "cell_type": "code",
   "execution_count": 16,
   "metadata": {
    "ExecuteTime": {
     "end_time": "2020-09-14T00:07:40.845948Z",
     "start_time": "2020-09-14T00:07:40.684504Z"
    }
   },
   "outputs": [],
   "source": [
    "#Tratando dados inconsistentes para 'MARRIAGE'\n",
    "lista_marriage = [0]\n",
    "lista_subst2 = [3]\n",
    "df_train['MARRIAGE'] = df_train['MARRIAGE'].replace(lista_marriage,lista_subst2)"
   ]
  },
  {
   "cell_type": "code",
   "execution_count": 24,
   "metadata": {
    "ExecuteTime": {
     "end_time": "2020-09-14T01:45:54.235246Z",
     "start_time": "2020-09-14T01:45:54.212843Z"
    }
   },
   "outputs": [],
   "source": [
    "#Tratando dados inconsistentes para lista de PAY.\n",
    "lista_pay = df_train.filter(regex='PAY').columns.tolist()[:6]\n",
    "lista_pay1 = [0,-2]\n",
    "lista_subst3 =[9,9] \n",
    "for i in lista_pay:\n",
    "    df_train[i]=df_train[i].replace(lista_pay1,lista_subst3)"
   ]
  },
  {
   "cell_type": "markdown",
   "metadata": {
    "ExecuteTime": {
     "end_time": "2020-09-09T18:22:31.049604Z",
     "start_time": "2020-09-09T18:22:31.039027Z"
    }
   },
   "source": [
    "Estou considerando que nas features PAY_0,...,PAY_6, os valores inconsistestes 0 e -2 sejam pessoas que estão com pagamentos atrasados a mais de 9 meses. "
   ]
  },
  {
   "cell_type": "markdown",
   "metadata": {},
   "source": [
    "\n",
    "## Missing Values"
   ]
  },
  {
   "cell_type": "markdown",
   "metadata": {},
   "source": [
    "Os missings aqui apresentados serão tratados mais a frente, tentaremos achar um padrão para inputar-los da melhor forma possível. "
   ]
  },
  {
   "cell_type": "code",
   "execution_count": 18,
   "metadata": {
    "ExecuteTime": {
     "end_time": "2020-09-14T00:07:44.414725Z",
     "start_time": "2020-09-14T00:07:44.406166Z"
    }
   },
   "outputs": [
    {
     "data": {
      "text/plain": [
       "default payment next month    0.0\n",
       "PAY_AMT6                      0.0\n",
       "SEX                           0.0\n",
       "EDUCATION                     0.0\n",
       "MARRIAGE                      0.0\n",
       "AGE                           0.0\n",
       "PAY_0                         0.0\n",
       "PAY_2                         0.0\n",
       "PAY_3                         0.0\n",
       "PAY_4                         0.0\n",
       "PAY_5                         0.0\n",
       "PAY_6                         0.0\n",
       "BILL_AMT1                     0.0\n",
       "BILL_AMT2                     0.0\n",
       "BILL_AMT3                     0.0\n",
       "BILL_AMT4                     0.0\n",
       "BILL_AMT5                     0.0\n",
       "BILL_AMT6                     0.0\n",
       "PAY_AMT1                      0.0\n",
       "PAY_AMT2                      0.0\n",
       "PAY_AMT3                      0.0\n",
       "PAY_AMT4                      0.0\n",
       "PAY_AMT5                      0.0\n",
       "LIMIT_BAL                     0.0\n",
       "dtype: float64"
      ]
     },
     "execution_count": 18,
     "metadata": {},
     "output_type": "execute_result"
    }
   ],
   "source": [
    "#Observando a porcentagem os valores faltosos para as features.\n",
    "porcentagem_de_missings = round(df_train.isna().sum()/df_raw.shape[0]*100,1)\n",
    "porcentagem_de_missings.sort_values(ascending=False)"
   ]
  },
  {
   "cell_type": "code",
   "execution_count": 19,
   "metadata": {
    "ExecuteTime": {
     "end_time": "2020-09-14T00:07:46.147203Z",
     "start_time": "2020-09-14T00:07:45.095846Z"
    }
   },
   "outputs": [
    {
     "data": {
      "text/plain": [
       "<AxesSubplot:>"
      ]
     },
     "execution_count": 19,
     "metadata": {},
     "output_type": "execute_result"
    },
    {
     "data": {
      "image/png": "[encoded data removed]",
      "text/plain": [
       "<Figure size 1800x720 with 2 Axes>"
      ]
     },
     "metadata": {
      "needs_background": "light"
     },
     "output_type": "display_data"
    }
   ],
   "source": [
    "#Plotando a matrix.\n",
    "msno.matrix(df_train)"
   ]
  },
  {
   "cell_type": "markdown",
   "metadata": {},
   "source": [
    "O dataset não apresenta missing values, no entando não há garantias que os dados sempre venham desta forma. Sendo assim, construiremos um pipeline em que variáveis numéricas serão imputadas com a mediana e variáveis categóricas serão imputadas com a moda. Vale salientar que nem sempre esse é o melhor método. Estratégias como imputação iterativa ou baseada em modelos como árvores de decisão e KNN também podem ser utilizadas, porém aumentam consideravelmente a complexidade da produtização desse modelo."
   ]
  },
  {
   "cell_type": "markdown",
   "metadata": {},
   "source": [
    "## Removendo Colunas Constantes"
   ]
  },
  {
   "cell_type": "code",
   "execution_count": 20,
   "metadata": {
    "ExecuteTime": {
     "end_time": "2020-09-14T00:07:47.902850Z",
     "start_time": "2020-09-14T00:07:47.892030Z"
    }
   },
   "outputs": [],
   "source": [
    "df_train, const_cols = remover_colunas_constantes(df_train)"
   ]
  },
  {
   "cell_type": "markdown",
   "metadata": {
    "ExecuteTime": {
     "end_time": "2020-09-09T19:02:56.861076Z",
     "start_time": "2020-09-09T19:02:56.849912Z"
    }
   },
   "source": [
    "# Exportando dados e dicionário de dados"
   ]
  },
  {
   "cell_type": "code",
   "execution_count": 21,
   "metadata": {
    "ExecuteTime": {
     "end_time": "2020-09-14T00:07:49.127382Z",
     "start_time": "2020-09-14T00:07:49.124558Z"
    }
   },
   "outputs": [],
   "source": [
    "# Deletando colunas (chaves-valor) excluidos do dicionário\n",
    "colunas_dropped = lista_to_drop\n",
    "for column in colunas_dropped:\n",
    "    del dicionario_tipo[column]"
   ]
  },
  {
   "cell_type": "code",
   "execution_count": 22,
   "metadata": {
    "ExecuteTime": {
     "end_time": "2020-09-14T00:07:49.910431Z",
     "start_time": "2020-09-14T00:07:49.886558Z"
    }
   },
   "outputs": [],
   "source": [
    "# Salvando o dicionario como pickle\n",
    "with open(META_DATA_PATH, 'wb') as f:\n",
    "    cloudpickle.dump(dicionario_tipo, f)"
   ]
  },
  {
   "cell_type": "code",
   "execution_count": 23,
   "metadata": {
    "ExecuteTime": {
     "end_time": "2020-09-14T00:07:51.044794Z",
     "start_time": "2020-09-14T00:07:50.919473Z"
    }
   },
   "outputs": [],
   "source": [
    "#Salvando os dados de treino\n",
    "df_train.to_csv(os.path.join(DATA_INTER_PATH,DATA_INTER_TRAIN_NAME), index=False)"
   ]
  }
 ],
 "metadata": {
  "kernelspec": {
   "display_name": "Python 3",
   "language": "python",
   "name": "python3"
  },
  "language_info": {
   "codemirror_mode": {
    "name": "ipython",
    "version": 3
   },
   "file_extension": ".py",
   "mimetype": "text/x-python",
   "name": "python",
   "nbconvert_exporter": "python",
   "pygments_lexer": "ipython3",
   "version": "3.8.3"
  },
  "toc": {
   "base_numbering": 1,
   "nav_menu": {},
   "number_sections": true,
   "sideBar": true,
   "skip_h1_title": false,
   "title_cell": "Table of Contents",
   "title_sidebar": "Contents",
   "toc_cell": false,
   "toc_position": {},
   "toc_section_display": true,
   "toc_window_display": false
  },
  "varInspector": {
   "cols": {
    "lenName": 16,
    "lenType": 16,
    "lenVar": 40
   },
   "kernels_config": {
    "python": {
     "delete_cmd_postfix": "",
     "delete_cmd_prefix": "del ",
     "library": "var_list.py",
     "varRefreshCmd": "print(var_dic_list())"
    },
    "r": {
     "delete_cmd_postfix": ") ",
     "delete_cmd_prefix": "rm(",
     "library": "var_list.r",
     "varRefreshCmd": "cat(var_dic_list()) "
    }
   },
   "types_to_exclude": [
    "module",
    "function",
    "builtin_function_or_method",
    "instance",
    "_Feature"
   ],
   "window_display": false
  }
 },
 "nbformat": 4,
 "nbformat_minor": 4
}
