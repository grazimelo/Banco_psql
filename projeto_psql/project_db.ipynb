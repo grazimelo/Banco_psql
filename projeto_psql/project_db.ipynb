{
 "cells": [
  {
   "cell_type": "markdown",
   "metadata": {
    "ExecuteTime": {
     "end_time": "2020-10-09T00:54:13.196903Z",
     "start_time": "2020-10-09T00:54:13.188729Z"
    }
   },
   "source": [
    "# Objetivo\n",
    "\n",
    "Dada uma planilha em Excel, inserir os dados da planilha num banco de dados PostgreSQL.\n",
    "\n",
    "Dica: você pode usar Python junto com psycopg2 para se conectar no PostgreSQL.\n",
    "    \n",
    "Passos:\n",
    "\n",
    "* Criar uma virtualenv\n",
    "\n",
    "* Instalar psycopg2\n",
    "\n",
    "* Ler os dados da planilha Excel\n",
    "\n",
    "* Tratar os dados, se necessário\n",
    "* Inserir os dados no banco PostgreSQL\n",
    "* Coloque seu projeto no Gitlab, ou Github pessoal e me manda o link do repositório"
   ]
  },
  {
   "cell_type": "markdown",
   "metadata": {},
   "source": [
    "# Dependências "
   ]
  },
  {
   "cell_type": "markdown",
   "metadata": {},
   "source": [
    "## Biblioteca"
   ]
  },
  {
   "cell_type": "code",
   "execution_count": 9,
   "metadata": {
    "ExecuteTime": {
     "end_time": "2020-10-14T02:32:34.602015Z",
     "start_time": "2020-10-14T02:32:34.433674Z"
    }
   },
   "outputs": [],
   "source": [
    "import psycopg2\n",
    "import pandas as pd\n",
    "from decouple import config"
   ]
  },
  {
   "cell_type": "markdown",
   "metadata": {},
   "source": [
    "## Dados e Constantes"
   ]
  },
  {
   "cell_type": "code",
   "execution_count": 10,
   "metadata": {
    "ExecuteTime": {
     "end_time": "2020-10-14T02:32:35.840215Z",
     "start_time": "2020-10-14T02:32:35.771888Z"
    }
   },
   "outputs": [],
   "source": [
    "df = pd.read_excel('categoria.xlsx')\n",
    "df_1 = pd.read_excel('produto.xlsx')\n",
    "df_2 = pd.read_excel('produtos-com-categoria.xlsx')"
   ]
  },
  {
   "cell_type": "code",
   "execution_count": 11,
   "metadata": {
    "ExecuteTime": {
     "end_time": "2020-10-14T02:32:36.416812Z",
     "start_time": "2020-10-14T02:32:36.389353Z"
    }
   },
   "outputs": [
    {
     "data": {
      "text/html": [
       "<div>\n",
       "<style scoped>\n",
       "    .dataframe tbody tr th:only-of-type {\n",
       "        vertical-align: middle;\n",
       "    }\n",
       "\n",
       "    .dataframe tbody tr th {\n",
       "        vertical-align: top;\n",
       "    }\n",
       "\n",
       "    .dataframe thead th {\n",
       "        text-align: right;\n",
       "    }\n",
       "</style>\n",
       "<table border=\"1\" class=\"dataframe\">\n",
       "  <thead>\n",
       "    <tr style=\"text-align: right;\">\n",
       "      <th></th>\n",
       "      <th>id</th>\n",
       "      <th>categoria</th>\n",
       "    </tr>\n",
       "  </thead>\n",
       "  <tbody>\n",
       "    <tr>\n",
       "      <th>0</th>\n",
       "      <td>661</td>\n",
       "      <td>bebidas</td>\n",
       "    </tr>\n",
       "    <tr>\n",
       "      <th>1</th>\n",
       "      <td>220</td>\n",
       "      <td>sobremesas</td>\n",
       "    </tr>\n",
       "    <tr>\n",
       "      <th>2</th>\n",
       "      <td>485</td>\n",
       "      <td>cereais</td>\n",
       "    </tr>\n",
       "    <tr>\n",
       "      <th>3</th>\n",
       "      <td>617</td>\n",
       "      <td>frios</td>\n",
       "    </tr>\n",
       "    <tr>\n",
       "      <th>4</th>\n",
       "      <td>801</td>\n",
       "      <td>limpeza</td>\n",
       "    </tr>\n",
       "  </tbody>\n",
       "</table>\n",
       "</div>"
      ],
      "text/plain": [
       "    id   categoria\n",
       "0  661     bebidas\n",
       "1  220  sobremesas\n",
       "2  485     cereais\n",
       "3  617       frios\n",
       "4  801     limpeza"
      ]
     },
     "execution_count": 11,
     "metadata": {},
     "output_type": "execute_result"
    }
   ],
   "source": [
    "#tabela categoria\n",
    "df.head()"
   ]
  },
  {
   "cell_type": "code",
   "execution_count": 12,
   "metadata": {
    "ExecuteTime": {
     "end_time": "2020-10-14T02:32:37.080519Z",
     "start_time": "2020-10-14T02:32:37.066010Z"
    }
   },
   "outputs": [
    {
     "data": {
      "text/html": [
       "<div>\n",
       "<style scoped>\n",
       "    .dataframe tbody tr th:only-of-type {\n",
       "        vertical-align: middle;\n",
       "    }\n",
       "\n",
       "    .dataframe tbody tr th {\n",
       "        vertical-align: top;\n",
       "    }\n",
       "\n",
       "    .dataframe thead th {\n",
       "        text-align: right;\n",
       "    }\n",
       "</style>\n",
       "<table border=\"1\" class=\"dataframe\">\n",
       "  <thead>\n",
       "    <tr style=\"text-align: right;\">\n",
       "      <th></th>\n",
       "      <th>id</th>\n",
       "      <th>produto</th>\n",
       "      <th>preco</th>\n",
       "      <th>categoria_id</th>\n",
       "    </tr>\n",
       "  </thead>\n",
       "  <tbody>\n",
       "    <tr>\n",
       "      <th>0</th>\n",
       "      <td>556</td>\n",
       "      <td>customer identify</td>\n",
       "      <td>562.64</td>\n",
       "      <td>801</td>\n",
       "    </tr>\n",
       "    <tr>\n",
       "      <th>1</th>\n",
       "      <td>626</td>\n",
       "      <td>town one</td>\n",
       "      <td>674.67</td>\n",
       "      <td>661</td>\n",
       "    </tr>\n",
       "    <tr>\n",
       "      <th>2</th>\n",
       "      <td>524</td>\n",
       "      <td>hotel hard</td>\n",
       "      <td>579.58</td>\n",
       "      <td>617</td>\n",
       "    </tr>\n",
       "    <tr>\n",
       "      <th>3</th>\n",
       "      <td>347</td>\n",
       "      <td>tend approach</td>\n",
       "      <td>664.32</td>\n",
       "      <td>834</td>\n",
       "    </tr>\n",
       "    <tr>\n",
       "      <th>4</th>\n",
       "      <td>869</td>\n",
       "      <td>method paper</td>\n",
       "      <td>99.22</td>\n",
       "      <td>530</td>\n",
       "    </tr>\n",
       "  </tbody>\n",
       "</table>\n",
       "</div>"
      ],
      "text/plain": [
       "    id            produto   preco  categoria_id\n",
       "0  556  customer identify  562.64           801\n",
       "1  626           town one  674.67           661\n",
       "2  524         hotel hard  579.58           617\n",
       "3  347      tend approach  664.32           834\n",
       "4  869       method paper   99.22           530"
      ]
     },
     "execution_count": 12,
     "metadata": {},
     "output_type": "execute_result"
    }
   ],
   "source": [
    "#Tabela produtos\n",
    "df_1.head()"
   ]
  },
  {
   "cell_type": "code",
   "execution_count": 13,
   "metadata": {},
   "outputs": [
    {
     "data": {
      "text/html": [
       "<div>\n",
       "<style scoped>\n",
       "    .dataframe tbody tr th:only-of-type {\n",
       "        vertical-align: middle;\n",
       "    }\n",
       "\n",
       "    .dataframe tbody tr th {\n",
       "        vertical-align: top;\n",
       "    }\n",
       "\n",
       "    .dataframe thead th {\n",
       "        text-align: right;\n",
       "    }\n",
       "</style>\n",
       "<table border=\"1\" class=\"dataframe\">\n",
       "  <thead>\n",
       "    <tr style=\"text-align: right;\">\n",
       "      <th></th>\n",
       "      <th>id</th>\n",
       "      <th>produto</th>\n",
       "      <th>preco</th>\n",
       "      <th>categoria</th>\n",
       "    </tr>\n",
       "  </thead>\n",
       "  <tbody>\n",
       "    <tr>\n",
       "      <th>0</th>\n",
       "      <td>1</td>\n",
       "      <td>uva</td>\n",
       "      <td>2.59</td>\n",
       "      <td>670</td>\n",
       "    </tr>\n",
       "    <tr>\n",
       "      <th>1</th>\n",
       "      <td>2</td>\n",
       "      <td>Suco de uva</td>\n",
       "      <td>10.47</td>\n",
       "      <td>101</td>\n",
       "    </tr>\n",
       "    <tr>\n",
       "      <th>2</th>\n",
       "      <td>3</td>\n",
       "      <td>Suco de manga</td>\n",
       "      <td>10.47</td>\n",
       "      <td>101</td>\n",
       "    </tr>\n",
       "    <tr>\n",
       "      <th>3</th>\n",
       "      <td>4</td>\n",
       "      <td>Suco de maça</td>\n",
       "      <td>10.47</td>\n",
       "      <td>101</td>\n",
       "    </tr>\n",
       "    <tr>\n",
       "      <th>4</th>\n",
       "      <td>5</td>\n",
       "      <td>Suco de laranja</td>\n",
       "      <td>10.47</td>\n",
       "      <td>101</td>\n",
       "    </tr>\n",
       "  </tbody>\n",
       "</table>\n",
       "</div>"
      ],
      "text/plain": [
       "   id          produto  preco  categoria\n",
       "0   1              uva   2.59        670\n",
       "1   2      Suco de uva  10.47        101\n",
       "2   3    Suco de manga  10.47        101\n",
       "3   4     Suco de maça  10.47        101\n",
       "4   5  Suco de laranja  10.47        101"
      ]
     },
     "execution_count": 13,
     "metadata": {},
     "output_type": "execute_result"
    }
   ],
   "source": [
    "#Produtos com categorias\n",
    "df_2.head()"
   ]
  },
  {
   "cell_type": "markdown",
   "metadata": {
    "ExecuteTime": {
     "end_time": "2020-10-12T17:36:52.124087Z",
     "start_time": "2020-10-12T17:36:52.112480Z"
    }
   },
   "source": [
    "## Inserindo os dados no banco Psql"
   ]
  },
  {
   "cell_type": "code",
   "execution_count": 14,
   "metadata": {
    "ExecuteTime": {
     "end_time": "2020-10-14T02:32:38.754040Z",
     "start_time": "2020-10-14T02:32:38.732116Z"
    }
   },
   "outputs": [
    {
     "name": "stdout",
     "output_type": "stream",
     "text": [
      "{'user': 'my_usuario', 'dbname': 'my_db', 'host': '127.0.0.1', 'port': '5432', 'tty': '', 'options': '', 'sslmode': 'prefer', 'sslcompression': '0', 'krbsrvname': 'postgres', 'target_session_attrs': 'any'} \n",
      "\n",
      "You are connected to -  ('PostgreSQL 11.9 (Ubuntu 11.9-1.pgdg20.04+1) on x86_64-pc-linux-gnu, compiled by gcc (Ubuntu 9.3.0-10ubuntu2) 9.3.0, 64-bit',) \n",
      "\n"
     ]
    }
   ],
   "source": [
    "try:\n",
    "    connection = psycopg2.connect(user = \"my_usuario\",\n",
    "                                  password = config(\"PASSWORD\"),\n",
    "                                  host = \"127.0.0.1\",\n",
    "                                  port = \"5432\",\n",
    "                                  database = \"my_db\")\n",
    "\n",
    "    cursor = connection.cursor()\n",
    "    # Print PostgreSQL Connection properties\n",
    "    print ( connection.get_dsn_parameters(),\"\\n\")\n",
    "\n",
    "    # Print PostgreSQL version\n",
    "    cursor.execute(\"SELECT version();\")\n",
    "    record = cursor.fetchone()\n",
    "    print(\"You are connected to - \", record,\"\\n\")\n",
    "\n",
    "except (Exception, psycopg2.Error) as error :\n",
    "    print (\"Error while connecting to PostgreSQL\", error)"
   ]
  },
  {
   "cell_type": "code",
   "execution_count": 15,
   "metadata": {
    "ExecuteTime": {
     "end_time": "2020-10-14T02:32:41.287004Z",
     "start_time": "2020-10-14T02:32:41.280036Z"
    }
   },
   "outputs": [],
   "source": [
    "cur = connection.cursor()"
   ]
  },
  {
   "cell_type": "markdown",
   "metadata": {},
   "source": [
    "## Tabela `categoria`"
   ]
  },
  {
   "cell_type": "code",
   "execution_count": 16,
   "metadata": {
    "ExecuteTime": {
     "end_time": "2020-10-14T02:30:03.212186Z",
     "start_time": "2020-10-14T02:30:02.997532Z"
    }
   },
   "outputs": [],
   "source": [
    "#Criando tabela para categoria\n",
    "cur.execute(\"\"\"CREATE TABLE IF NOT EXISTS categoria (id SERIAL PRIMARY KEY, nome VARCHAR(50));\"\"\")"
   ]
  },
  {
   "cell_type": "code",
   "execution_count": 17,
   "metadata": {
    "ExecuteTime": {
     "end_time": "2020-10-14T02:30:03.780898Z",
     "start_time": "2020-10-14T02:30:03.768140Z"
    },
    "scrolled": true
   },
   "outputs": [],
   "source": [
    "for i,row in df.iterrows():\n",
    "    name = row[\"categoria\"]\n",
    "    cur.execute(f\"INSERT INTO categoria (nome) VALUES ('{name}')\")"
   ]
  },
  {
   "cell_type": "code",
   "execution_count": 18,
   "metadata": {
    "ExecuteTime": {
     "end_time": "2020-10-14T02:30:05.887588Z",
     "start_time": "2020-10-14T02:30:05.841025Z"
    }
   },
   "outputs": [],
   "source": [
    "connection.commit()"
   ]
  },
  {
   "cell_type": "code",
   "execution_count": null,
   "metadata": {},
   "outputs": [],
   "source": [
    "#cur.execute(\"DELETE FROM produtos where id > 10;\")"
   ]
  },
  {
   "cell_type": "code",
   "execution_count": 19,
   "metadata": {},
   "outputs": [
    {
     "data": {
      "text/plain": [
       "[(1, 'bebidas'),\n",
       " (2, 'sobremesas'),\n",
       " (3, 'cereais'),\n",
       " (4, 'frios'),\n",
       " (5, 'limpeza'),\n",
       " (6, 'hortifruti'),\n",
       " (7, 'perfumaria'),\n",
       " (8, 'mercearia'),\n",
       " (9, 'bazar'),\n",
       " (10, 'pet shop'),\n",
       " (11, 'bebidas'),\n",
       " (12, 'sobremesas'),\n",
       " (13, 'cereais'),\n",
       " (14, 'frios'),\n",
       " (15, 'limpeza'),\n",
       " (16, 'hortifruti'),\n",
       " (17, 'perfumaria'),\n",
       " (18, 'mercearia'),\n",
       " (19, 'bazar'),\n",
       " (20, 'pet shop')]"
      ]
     },
     "execution_count": 19,
     "metadata": {},
     "output_type": "execute_result"
    }
   ],
   "source": [
    "cur.execute(\"SELECT * FROM categoria;\")\n",
    "cur.fetchall()"
   ]
  },
  {
   "cell_type": "markdown",
   "metadata": {},
   "source": [
    "## Tabela `produtos`"
   ]
  },
  {
   "cell_type": "code",
   "execution_count": 27,
   "metadata": {
    "ExecuteTime": {
     "end_time": "2020-10-14T02:32:45.159088Z",
     "start_time": "2020-10-14T02:32:45.152472Z"
    }
   },
   "outputs": [],
   "source": [
    "#Criando tabela para produtos. \n",
    "cur.execute(\"\"\"CREATE TABLE IF NOT EXISTS produtos(id SERIAL PRIMARY KEY, nome_produto VARCHAR(50), valor_produtos decimal);\"\"\")"
   ]
  },
  {
   "cell_type": "code",
   "execution_count": 28,
   "metadata": {
    "ExecuteTime": {
     "end_time": "2020-10-14T02:32:46.890583Z",
     "start_time": "2020-10-14T02:32:46.809920Z"
    }
   },
   "outputs": [],
   "source": [
    "for i, row in df_1.iterrows():\n",
    "    nome_produto = row[\"produto\"]\n",
    "    valor_produtos = row[\"preco\"]\n",
    "    cur.execute(f\"INSERT INTO produtos (nome_produto, valor_produtos) VALUES ('{nome_produto}','{valor_produtos}')\")"
   ]
  },
  {
   "cell_type": "code",
   "execution_count": 29,
   "metadata": {},
   "outputs": [],
   "source": [
    "connection.commit()"
   ]
  },
  {
   "cell_type": "code",
   "execution_count": 30,
   "metadata": {},
   "outputs": [
    {
     "data": {
      "text/plain": [
       "[(1, 'customer identify', Decimal('562.64')),\n",
       " (2, 'town one', Decimal('674.67')),\n",
       " (3, 'hotel hard', Decimal('579.58')),\n",
       " (4, 'tend approach', Decimal('664.32')),\n",
       " (5, 'method paper', Decimal('99.22')),\n",
       " (6, 'take control', Decimal('98.34')),\n",
       " (7, 'local want', Decimal('239.51')),\n",
       " (8, 'necessary effort', Decimal('372.86')),\n",
       " (9, 'close no', Decimal('35.53')),\n",
       " (10, 'soldier south', Decimal('452.04')),\n",
       " (11, 'quickly trial', Decimal('463.9')),\n",
       " (12, 'site old', Decimal('149.96')),\n",
       " (13, 'central establish', Decimal('550.27')),\n",
       " (14, 'half owner', Decimal('607.89')),\n",
       " (15, 'bed detail', Decimal('501.84')),\n",
       " (16, 'newspaper government', Decimal('142.43')),\n",
       " (17, 'traditional your', Decimal('113.58')),\n",
       " (18, 'safe TV', Decimal('95.67')),\n",
       " (19, 'language firm', Decimal('133.95')),\n",
       " (20, 'go economic', Decimal('132.42')),\n",
       " (21, 'bed forget', Decimal('72.15')),\n",
       " (22, 'could point', Decimal('31.62')),\n",
       " (23, 'thus very', Decimal('180.93')),\n",
       " (24, 'different mother', Decimal('244.2')),\n",
       " (25, 'recognize situation', Decimal('428.0')),\n",
       " (26, 'bank single', Decimal('245.7')),\n",
       " (27, 'capital son', Decimal('529.88')),\n",
       " (28, 'although case', Decimal('102.96')),\n",
       " (29, 'professor city', Decimal('158.91')),\n",
       " (30, 'authority item', Decimal('0.94')),\n",
       " (31, 'order recent', Decimal('510.33')),\n",
       " (32, 'more measure', Decimal('70.86')),\n",
       " (33, 'charge push', Decimal('343.91')),\n",
       " (34, 'section not', Decimal('238.43')),\n",
       " (35, 'father offer', Decimal('219.77')),\n",
       " (36, 'organization current', Decimal('156.22')),\n",
       " (37, 'tell debate', Decimal('24.04')),\n",
       " (38, 'himself water', Decimal('59.79')),\n",
       " (39, 'glass man', Decimal('25.41')),\n",
       " (40, 'body coach', Decimal('397.67')),\n",
       " (41, 'bill trip', Decimal('539.75')),\n",
       " (42, 'miss impact', Decimal('436.27')),\n",
       " (43, 'help player', Decimal('292.1')),\n",
       " (44, 'threat easy', Decimal('85.71')),\n",
       " (45, 'kind care', Decimal('3.58')),\n",
       " (46, 'agree to', Decimal('481.35')),\n",
       " (47, 'across field', Decimal('178.12')),\n",
       " (48, 'support former', Decimal('66.7')),\n",
       " (49, 'admit everything', Decimal('606.28')),\n",
       " (50, 'dream artist', Decimal('73.04'))]"
      ]
     },
     "execution_count": 30,
     "metadata": {},
     "output_type": "execute_result"
    }
   ],
   "source": [
    "cur.execute(\"SELECT * FROM produtos;\")\n",
    "cur.fetchall()"
   ]
  },
  {
   "cell_type": "markdown",
   "metadata": {},
   "source": [
    "## Tabela `produtos_categoria`"
   ]
  },
  {
   "cell_type": "code",
   "execution_count": 31,
   "metadata": {},
   "outputs": [],
   "source": [
    "#Produtos com categoria\n",
    "cur.execute(\"\"\"CREATE TABLE IF NOT EXISTS produtos_categoria (id SERIAL PRIMARY KEY, nome_produto VARCHAR(50), valor_produto decimal, categoria_tipo INT REFERENCES categoria(id));\"\"\")"
   ]
  },
  {
   "cell_type": "code",
   "execution_count": 32,
   "metadata": {},
   "outputs": [],
   "source": [
    "connection.commit()"
   ]
  },
  {
   "cell_type": "code",
   "execution_count": 33,
   "metadata": {},
   "outputs": [],
   "source": [
    "for i, row in df_2.iterrows():\n",
    "    nome_produto = row[\"produto\"]\n",
    "    valor_produto = row[\"preco\"]\n",
    "    categoria_tipo = row[\"categoria\"]\n",
    "    # cur.execute(f\"INSERT INTO produtos_categoria (nome_produto, valor_produto, categoria_tipo) VALUES ('{nome_produto}','{valor_produto}',{categoria_tipo})\")"
   ]
  },
  {
   "cell_type": "code",
   "execution_count": null,
   "metadata": {},
   "outputs": [],
   "source": [
    "#cur.execute(\"DELETE FROM produtos where id > 64;\")\n",
    "#cur.execute(\"DROP TABLE IF EXISTS produtos;\")\n",
    "#cur.execute(\"ALTER TABLE produtos DROP COLUMN valor_produto;\")\n",
    "#cur.execute(\"ALTER TABLE produtos ADD valor_produtos decimal;\")"
   ]
  }
 ],
 "metadata": {
  "kernelspec": {
   "display_name": "Python 3",
   "language": "python",
   "name": "python3"
  },
  "language_info": {
   "codemirror_mode": {
    "name": "ipython",
    "version": 3
   },
   "file_extension": ".py",
   "mimetype": "text/x-python",
   "name": "python",
   "nbconvert_exporter": "python",
   "pygments_lexer": "ipython3",
   "version": "3.8.2"
  },
  "toc": {
   "base_numbering": 1,
   "nav_menu": {},
   "number_sections": true,
   "sideBar": true,
   "skip_h1_title": false,
   "title_cell": "Table of Contents",
   "title_sidebar": "Contents",
   "toc_cell": false,
   "toc_position": {},
   "toc_section_display": true,
   "toc_window_display": false
  },
  "varInspector": {
   "cols": {
    "lenName": 16,
    "lenType": 16,
    "lenVar": 40
   },
   "kernels_config": {
    "python": {
     "delete_cmd_postfix": "",
     "delete_cmd_prefix": "del ",
     "library": "var_list.py",
     "varRefreshCmd": "print(var_dic_list())"
    },
    "r": {
     "delete_cmd_postfix": ") ",
     "delete_cmd_prefix": "rm(",
     "library": "var_list.r",
     "varRefreshCmd": "cat(var_dic_list()) "
    }
   },
   "types_to_exclude": [
    "module",
    "function",
    "builtin_function_or_method",
    "instance",
    "_Feature"
   ],
   "window_display": false
  }
 },
 "nbformat": 4,
 "nbformat_minor": 4
}
