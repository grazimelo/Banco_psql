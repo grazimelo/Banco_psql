{
 "cells": [
  {
   "cell_type": "markdown",
   "metadata": {
    "ExecuteTime": {
     "end_time": "2020-10-09T00:54:13.196903Z",
     "start_time": "2020-10-09T00:54:13.188729Z"
    }
   },
   "source": [
    "# Objetivo\n",
    "\n",
    "Dada uma planilha em Excel, inserir os dados da planilha num banco de dados PostgreSQL.\n",
    "\n",
    "Dica: você pode usar Python junto com psycopg2 para se conectar no PostgreSQL.\n",
    "    \n",
    "Passos:\n",
    "\n",
    "* Criar uma virtualenv\n",
    "\n",
    "* Instalar psycopg2\n",
    "\n",
    "* Ler os dados da planilha Excel\n",
    "\n",
    "* Tratar os dados, se necessário\n",
    "* Inserir os dados no banco PostgreSQL\n",
    "* Coloque seu projeto no Gitlab, ou Github pessoal e me manda o link do repositório"
   ]
  },
  {
   "cell_type": "markdown",
   "metadata": {},
   "source": [
    "# Dependências "
   ]
  },
  {
   "cell_type": "markdown",
   "metadata": {},
   "source": [
    "## Biblioteca"
   ]
  },
  {
   "cell_type": "code",
   "execution_count": 1,
   "metadata": {
    "ExecuteTime": {
     "end_time": "2020-10-14T02:32:34.602015Z",
     "start_time": "2020-10-14T02:32:34.433674Z"
    }
   },
   "outputs": [],
   "source": [
    "import psycopg2\n",
    "import pandas as pd\n",
    "from decouple import config"
   ]
  },
  {
   "cell_type": "markdown",
   "metadata": {},
   "source": [
    "## Dados e Constantes"
   ]
  },
  {
   "cell_type": "code",
   "execution_count": 11,
   "metadata": {
    "ExecuteTime": {
     "end_time": "2020-10-14T02:32:35.840215Z",
     "start_time": "2020-10-14T02:32:35.771888Z"
    }
   },
   "outputs": [],
   "source": [
    "df = pd.read_excel('categorias.xlsx')\n",
    "df_1 = pd.read_excel('produtos.xlsx')\n",
    "df_2 = pd.read_excel('produtos-com-categoria.xlsx')"
   ]
  },
  {
   "cell_type": "code",
   "execution_count": 3,
   "metadata": {
    "ExecuteTime": {
     "end_time": "2020-10-14T02:32:36.416812Z",
     "start_time": "2020-10-14T02:32:36.389353Z"
    }
   },
   "outputs": [
    {
     "data": {
      "text/html": [
       "<div>\n",
       "<style scoped>\n",
       "    .dataframe tbody tr th:only-of-type {\n",
       "        vertical-align: middle;\n",
       "    }\n",
       "\n",
       "    .dataframe tbody tr th {\n",
       "        vertical-align: top;\n",
       "    }\n",
       "\n",
       "    .dataframe thead th {\n",
       "        text-align: right;\n",
       "    }\n",
       "</style>\n",
       "<table border=\"1\" class=\"dataframe\">\n",
       "  <thead>\n",
       "    <tr style=\"text-align: right;\">\n",
       "      <th></th>\n",
       "      <th>id</th>\n",
       "      <th>categoria</th>\n",
       "    </tr>\n",
       "  </thead>\n",
       "  <tbody>\n",
       "    <tr>\n",
       "      <th>0</th>\n",
       "      <td>1</td>\n",
       "      <td>bebidas</td>\n",
       "    </tr>\n",
       "    <tr>\n",
       "      <th>1</th>\n",
       "      <td>2</td>\n",
       "      <td>sobremesas</td>\n",
       "    </tr>\n",
       "    <tr>\n",
       "      <th>2</th>\n",
       "      <td>3</td>\n",
       "      <td>cereais</td>\n",
       "    </tr>\n",
       "    <tr>\n",
       "      <th>3</th>\n",
       "      <td>4</td>\n",
       "      <td>frios</td>\n",
       "    </tr>\n",
       "    <tr>\n",
       "      <th>4</th>\n",
       "      <td>5</td>\n",
       "      <td>limpeza</td>\n",
       "    </tr>\n",
       "  </tbody>\n",
       "</table>\n",
       "</div>"
      ],
      "text/plain": [
       "   id   categoria\n",
       "0   1     bebidas\n",
       "1   2  sobremesas\n",
       "2   3     cereais\n",
       "3   4       frios\n",
       "4   5     limpeza"
      ]
     },
     "execution_count": 3,
     "metadata": {},
     "output_type": "execute_result"
    }
   ],
   "source": [
    "#tabela categoria\n",
    "df.head()"
   ]
  },
  {
   "cell_type": "code",
   "execution_count": 4,
   "metadata": {
    "ExecuteTime": {
     "end_time": "2020-10-14T02:32:37.080519Z",
     "start_time": "2020-10-14T02:32:37.066010Z"
    }
   },
   "outputs": [
    {
     "data": {
      "text/html": [
       "<div>\n",
       "<style scoped>\n",
       "    .dataframe tbody tr th:only-of-type {\n",
       "        vertical-align: middle;\n",
       "    }\n",
       "\n",
       "    .dataframe tbody tr th {\n",
       "        vertical-align: top;\n",
       "    }\n",
       "\n",
       "    .dataframe thead th {\n",
       "        text-align: right;\n",
       "    }\n",
       "</style>\n",
       "<table border=\"1\" class=\"dataframe\">\n",
       "  <thead>\n",
       "    <tr style=\"text-align: right;\">\n",
       "      <th></th>\n",
       "      <th>id</th>\n",
       "      <th>produto</th>\n",
       "      <th>preco</th>\n",
       "    </tr>\n",
       "  </thead>\n",
       "  <tbody>\n",
       "    <tr>\n",
       "      <th>0</th>\n",
       "      <td>1</td>\n",
       "      <td>uva</td>\n",
       "      <td>2.59</td>\n",
       "    </tr>\n",
       "    <tr>\n",
       "      <th>1</th>\n",
       "      <td>2</td>\n",
       "      <td>Suco de uva</td>\n",
       "      <td>10.47</td>\n",
       "    </tr>\n",
       "    <tr>\n",
       "      <th>2</th>\n",
       "      <td>3</td>\n",
       "      <td>Suco de manga</td>\n",
       "      <td>10.47</td>\n",
       "    </tr>\n",
       "    <tr>\n",
       "      <th>3</th>\n",
       "      <td>4</td>\n",
       "      <td>Suco de maça</td>\n",
       "      <td>10.47</td>\n",
       "    </tr>\n",
       "    <tr>\n",
       "      <th>4</th>\n",
       "      <td>5</td>\n",
       "      <td>Suco de laranja</td>\n",
       "      <td>10.47</td>\n",
       "    </tr>\n",
       "  </tbody>\n",
       "</table>\n",
       "</div>"
      ],
      "text/plain": [
       "   id          produto  preco\n",
       "0   1              uva   2.59\n",
       "1   2      Suco de uva  10.47\n",
       "2   3    Suco de manga  10.47\n",
       "3   4     Suco de maça  10.47\n",
       "4   5  Suco de laranja  10.47"
      ]
     },
     "execution_count": 4,
     "metadata": {},
     "output_type": "execute_result"
    }
   ],
   "source": [
    "#Tabela produtos\n",
    "df_1.head()"
   ]
  },
  {
   "cell_type": "code",
   "execution_count": 12,
   "metadata": {},
   "outputs": [
    {
     "data": {
      "text/html": [
       "<div>\n",
       "<style scoped>\n",
       "    .dataframe tbody tr th:only-of-type {\n",
       "        vertical-align: middle;\n",
       "    }\n",
       "\n",
       "    .dataframe tbody tr th {\n",
       "        vertical-align: top;\n",
       "    }\n",
       "\n",
       "    .dataframe thead th {\n",
       "        text-align: right;\n",
       "    }\n",
       "</style>\n",
       "<table border=\"1\" class=\"dataframe\">\n",
       "  <thead>\n",
       "    <tr style=\"text-align: right;\">\n",
       "      <th></th>\n",
       "      <th>id</th>\n",
       "      <th>produto</th>\n",
       "      <th>preco</th>\n",
       "      <th>categoria</th>\n",
       "    </tr>\n",
       "  </thead>\n",
       "  <tbody>\n",
       "    <tr>\n",
       "      <th>0</th>\n",
       "      <td>1</td>\n",
       "      <td>uva</td>\n",
       "      <td>2.59</td>\n",
       "      <td>6</td>\n",
       "    </tr>\n",
       "    <tr>\n",
       "      <th>1</th>\n",
       "      <td>2</td>\n",
       "      <td>Suco de uva</td>\n",
       "      <td>10.47</td>\n",
       "      <td>1</td>\n",
       "    </tr>\n",
       "    <tr>\n",
       "      <th>2</th>\n",
       "      <td>3</td>\n",
       "      <td>Suco de manga</td>\n",
       "      <td>10.47</td>\n",
       "      <td>1</td>\n",
       "    </tr>\n",
       "    <tr>\n",
       "      <th>3</th>\n",
       "      <td>4</td>\n",
       "      <td>Suco de maça</td>\n",
       "      <td>10.47</td>\n",
       "      <td>1</td>\n",
       "    </tr>\n",
       "    <tr>\n",
       "      <th>4</th>\n",
       "      <td>5</td>\n",
       "      <td>Suco de laranja</td>\n",
       "      <td>10.47</td>\n",
       "      <td>1</td>\n",
       "    </tr>\n",
       "  </tbody>\n",
       "</table>\n",
       "</div>"
      ],
      "text/plain": [
       "   id          produto  preco  categoria\n",
       "0   1              uva   2.59          6\n",
       "1   2      Suco de uva  10.47          1\n",
       "2   3    Suco de manga  10.47          1\n",
       "3   4     Suco de maça  10.47          1\n",
       "4   5  Suco de laranja  10.47          1"
      ]
     },
     "execution_count": 12,
     "metadata": {},
     "output_type": "execute_result"
    }
   ],
   "source": [
    "#Produtos com categorias\n",
    "df_2.head()"
   ]
  },
  {
   "cell_type": "markdown",
   "metadata": {
    "ExecuteTime": {
     "end_time": "2020-10-12T17:36:52.124087Z",
     "start_time": "2020-10-12T17:36:52.112480Z"
    }
   },
   "source": [
    "## Inserindo os dados no banco Psql"
   ]
  },
  {
   "cell_type": "code",
   "execution_count": 5,
   "metadata": {
    "ExecuteTime": {
     "end_time": "2020-10-14T02:32:38.754040Z",
     "start_time": "2020-10-14T02:32:38.732116Z"
    }
   },
   "outputs": [
    {
     "name": "stdout",
     "output_type": "stream",
     "text": [
      "{'user': 'my_usuario', 'dbname': 'my_db', 'host': '127.0.0.1', 'port': '5432', 'tty': '', 'options': '', 'sslmode': 'prefer', 'sslcompression': '0', 'krbsrvname': 'postgres', 'target_session_attrs': 'any'} \n",
      "\n",
      "You are connected to -  ('PostgreSQL 11.9 (Ubuntu 11.9-1.pgdg20.04+1) on x86_64-pc-linux-gnu, compiled by gcc (Ubuntu 9.3.0-10ubuntu2) 9.3.0, 64-bit',) \n",
      "\n"
     ]
    }
   ],
   "source": [
    "try:\n",
    "    connection = psycopg2.connect(user = \"my_usuario\",\n",
    "                                  password = config(\"PASSAWORD\"),\n",
    "                                  host = \"127.0.0.1\",\n",
    "                                  port = \"5432\",\n",
    "                                  database = \"my_db\")\n",
    "\n",
    "    cursor = connection.cursor()\n",
    "    # Print PostgreSQL Connection properties\n",
    "    print ( connection.get_dsn_parameters(),\"\\n\")\n",
    "\n",
    "    # Print PostgreSQL version\n",
    "    cursor.execute(\"SELECT version();\")\n",
    "    record = cursor.fetchone()\n",
    "    print(\"You are connected to - \", record,\"\\n\")\n",
    "\n",
    "except (Exception, psycopg2.Error) as error :\n",
    "    print (\"Error while connecting to PostgreSQL\", error)"
   ]
  },
  {
   "cell_type": "code",
   "execution_count": 6,
   "metadata": {
    "ExecuteTime": {
     "end_time": "2020-10-14T02:32:41.287004Z",
     "start_time": "2020-10-14T02:32:41.280036Z"
    }
   },
   "outputs": [],
   "source": [
    "cur = connection.cursor()"
   ]
  },
  {
   "cell_type": "code",
   "execution_count": 12,
   "metadata": {
    "ExecuteTime": {
     "end_time": "2020-10-14T02:30:03.212186Z",
     "start_time": "2020-10-14T02:30:02.997532Z"
    }
   },
   "outputs": [],
   "source": [
    "#Criando tabela para categoria\n",
    "cur.execute(\"\"\"CREATE TABLE IF NOT EXISTS categoria (id SERIAL PRIMARY KEY, nome VARCHAR(50));\"\"\")"
   ]
  },
  {
   "cell_type": "code",
   "execution_count": 13,
   "metadata": {
    "ExecuteTime": {
     "end_time": "2020-10-14T02:30:03.780898Z",
     "start_time": "2020-10-14T02:30:03.768140Z"
    },
    "scrolled": true
   },
   "outputs": [],
   "source": [
    "for i,row in df.iterrows():\n",
    "    name = row[\"categoria\"]\n",
    "    cur.execute(f\"INSERT INTO categoria (nome) VALUES ('{name}')\")"
   ]
  },
  {
   "cell_type": "code",
   "execution_count": 6,
   "metadata": {
    "ExecuteTime": {
     "end_time": "2020-10-14T02:30:05.887588Z",
     "start_time": "2020-10-14T02:30:05.841025Z"
    }
   },
   "outputs": [],
   "source": [
    "connection.commit()"
   ]
  },
  {
   "cell_type": "code",
   "execution_count": 11,
   "metadata": {
    "ExecuteTime": {
     "end_time": "2020-10-14T02:30:06.873768Z",
     "start_time": "2020-10-14T02:30:06.863379Z"
    }
   },
   "outputs": [
    {
     "data": {
      "text/plain": [
       "[(1, 'bebidas'),\n",
       " (2, 'sobremesas'),\n",
       " (3, 'cereais'),\n",
       " (4, 'frios'),\n",
       " (5, 'limpeza'),\n",
       " (6, 'hortifruti'),\n",
       " (7, 'perfumaria'),\n",
       " (8, 'mercearia'),\n",
       " (9, 'bazar'),\n",
       " (10, 'pet shop')]"
      ]
     },
     "execution_count": 11,
     "metadata": {},
     "output_type": "execute_result"
    }
   ],
   "source": [
    "cur.execute(\"SELECT * FROM categoria;\")\n",
    "cur.fetchall()"
   ]
  },
  {
   "cell_type": "code",
   "execution_count": 7,
   "metadata": {
    "ExecuteTime": {
     "end_time": "2020-10-14T02:32:45.159088Z",
     "start_time": "2020-10-14T02:32:45.152472Z"
    }
   },
   "outputs": [],
   "source": [
    "#Criando tabela para produtos. \n",
    "cur.execute(\"\"\"CREATE TABLE IF NOT EXISTS produtos(id SERIAL PRIMARY KEY, nome_produto VARCHAR(50), valor_produto money);\"\"\")"
   ]
  },
  {
   "cell_type": "code",
   "execution_count": 8,
   "metadata": {
    "ExecuteTime": {
     "end_time": "2020-10-14T02:32:46.890583Z",
     "start_time": "2020-10-14T02:32:46.809920Z"
    }
   },
   "outputs": [],
   "source": [
    "for i, row in df_1.iterrows():\n",
    "    nome_produto = row[\"produto\"]\n",
    "    valor_produto = row[\"preco\"]\n",
    "    cur.execute(f\"INSERT INTO produtos (nome_produto, valor_produto) VALUES ('{nome_produto}','{valor_produto}')\")"
   ]
  },
  {
   "cell_type": "code",
   "execution_count": 9,
   "metadata": {},
   "outputs": [],
   "source": [
    "connection.commit()"
   ]
  },
  {
   "cell_type": "code",
   "execution_count": 10,
   "metadata": {},
   "outputs": [
    {
     "data": {
      "text/plain": [
       "[(1, 'uva', 'R$ 259,00'),\n",
       " (2, 'Suco de uva', 'R$ 1.047,00'),\n",
       " (3, 'Suco de manga', 'R$ 1.047,00'),\n",
       " (4, 'Suco de maça', 'R$ 1.047,00'),\n",
       " (5, 'Suco de laranja', 'R$ 1.047,00'),\n",
       " (6, 'shampoo', 'R$ 397,00'),\n",
       " (7, 'sardinha enlatada', 'R$ 863,00'),\n",
       " (8, 'sandália Havaianas', 'R$ 456,00'),\n",
       " (9, 'sabonete', 'R$ 275,00'),\n",
       " (10, 'Sabão em pó', 'R$ 1.793,00'),\n",
       " (11, 'Sabão em barra', 'R$ 175,00'),\n",
       " (12, 'Ração para gato', 'R$ 1.496,00'),\n",
       " (13, 'Ração para cachorro', 'R$ 863,00'),\n",
       " (14, 'quinoa', 'R$ 712,00'),\n",
       " (15, 'Queijo mussarela', 'R$ 533,00'),\n",
       " (16, 'Queijo frescal', 'R$ 555,00'),\n",
       " (17, 'Pudim', 'R$ 255,00'),\n",
       " (18, 'Petit Gateau', 'R$ 677,00'),\n",
       " (19, 'óleo de soja', 'R$ 46,00'),\n",
       " (20, 'óleo de girassol', 'R$ 1.685,00'),\n",
       " (21, 'mortadela', 'R$ 639,00'),\n",
       " (22, 'melão', 'R$ 112,00'),\n",
       " (23, 'melancia', 'R$ 21,00'),\n",
       " (24, 'manga', 'R$ 1.541,00'),\n",
       " (25, 'maionese', 'R$ 332,00'),\n",
       " (26, 'macarrão', 'R$ 54,00'),\n",
       " (27, 'maçã', 'R$ 314,00'),\n",
       " (28, 'linhaça', 'R$ 53,00'),\n",
       " (29, 'leite', 'R$ 1.084,00'),\n",
       " (30, 'laranja', 'R$ 31,00'),\n",
       " (31, 'Itubaina', 'R$ 28,00'),\n",
       " (32, 'granola', 'R$ 708,00'),\n",
       " (33, 'Gelatina', 'R$ 742,00'),\n",
       " (34, 'flocos de milho', 'R$ 1.361,00'),\n",
       " (35, 'feijão', 'R$ 89,00'),\n",
       " (36, 'farinha de trigo', 'R$ 882,00'),\n",
       " (37, 'Fanta Uva', 'R$ 396,00'),\n",
       " (38, 'Fanta Laranja', 'R$ 349,00'),\n",
       " (39, 'extrato de tomate', 'R$ 112,00'),\n",
       " (40, 'escova dental', 'R$ 1.072,00'),\n",
       " (41, 'Detergente', 'R$ 529,00'),\n",
       " (42, 'desodorante', 'R$ 295,00'),\n",
       " (43, 'Desinfetante', 'R$ 469,00'),\n",
       " (44, 'creme dental', 'R$ 145,00'),\n",
       " (45, 'creme de barbear', 'R$ 248,00'),\n",
       " (46, 'condicionador', 'R$ 90,00'),\n",
       " (47, 'Coleira', 'R$ 1.181,00'),\n",
       " (48, 'Coca-Cola', 'R$ 349,00'),\n",
       " (49, 'chá', 'R$ 498,00'),\n",
       " (50, 'centeio', 'R$ 89,00'),\n",
       " (51, 'Camiseta branca', 'R$ 178,00'),\n",
       " (52, 'café', 'R$ 708,00'),\n",
       " (53, 'Bola de morder', 'R$ 596,00'),\n",
       " (54, 'Bananinha', 'R$ 86,00'),\n",
       " (55, 'banana', 'R$ 171,00'),\n",
       " (56, 'azeite', 'R$ 335,00'),\n",
       " (57, 'aveia', 'R$ 1.003,00'),\n",
       " (58, 'atum enlatado', 'R$ 17,00'),\n",
       " (59, 'arroz', 'R$ 55,00'),\n",
       " (60, 'Apresuntado', 'R$ 482,00'),\n",
       " (61, 'Ambrosia', 'R$ 255,00'),\n",
       " (62, 'Água sanitária', 'R$ 1.389,00'),\n",
       " (63, 'abacaxi', 'R$ 102,00'),\n",
       " (64, 'abacate', 'R$ 634,00')]"
      ]
     },
     "execution_count": 10,
     "metadata": {},
     "output_type": "execute_result"
    }
   ],
   "source": [
    "cur.execute(\"SELECT * FROM produtos;\")\n",
    "cur.fetchall()"
   ]
  },
  {
   "cell_type": "code",
   "execution_count": null,
   "metadata": {},
   "outputs": [],
   "source": [
    "#Produtos com caminhão\n",
    "cur.execute(\"\"\"CREATE TABLE IF NOT EXISTS produtos(id SERIAL PRIMARY KEY, nome_produto VARCHAR(50), valor_produto money);\"\"\")"
   ]
  }
 ],
 "metadata": {
  "kernelspec": {
   "display_name": "Python 3",
   "language": "python",
   "name": "python3"
  },
  "language_info": {
   "codemirror_mode": {
    "name": "ipython",
    "version": 3
   },
   "file_extension": ".py",
   "mimetype": "text/x-python",
   "name": "python",
   "nbconvert_exporter": "python",
   "pygments_lexer": "ipython3",
   "version": "3.8.2"
  },
  "toc": {
   "base_numbering": 1,
   "nav_menu": {},
   "number_sections": true,
   "sideBar": true,
   "skip_h1_title": false,
   "title_cell": "Table of Contents",
   "title_sidebar": "Contents",
   "toc_cell": false,
   "toc_position": {},
   "toc_section_display": true,
   "toc_window_display": false
  },
  "varInspector": {
   "cols": {
    "lenName": 16,
    "lenType": 16,
    "lenVar": 40
   },
   "kernels_config": {
    "python": {
     "delete_cmd_postfix": "",
     "delete_cmd_prefix": "del ",
     "library": "var_list.py",
     "varRefreshCmd": "print(var_dic_list())"
    },
    "r": {
     "delete_cmd_postfix": ") ",
     "delete_cmd_prefix": "rm(",
     "library": "var_list.r",
     "varRefreshCmd": "cat(var_dic_list()) "
    }
   },
   "types_to_exclude": [
    "module",
    "function",
    "builtin_function_or_method",
    "instance",
    "_Feature"
   ],
   "window_display": false
  }
 },
 "nbformat": 4,
 "nbformat_minor": 4
}
