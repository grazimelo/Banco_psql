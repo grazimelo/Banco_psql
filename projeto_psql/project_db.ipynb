{
 "cells": [
  {
   "cell_type": "markdown",
   "metadata": {
    "ExecuteTime": {
     "end_time": "2020-10-09T00:54:13.196903Z",
     "start_time": "2020-10-09T00:54:13.188729Z"
    }
   },
   "source": [
    "# Objetivo\n",
    "\n",
    "Dada uma planilha em Excel, inserir os dados da planilha num banco de dados PostgreSQL.\n",
    "\n",
    "Dica: você pode usar Python junto com psycopg2 para se conectar no PostgreSQL.\n",
    "    \n",
    "Passos:\n",
    "\n",
    "* Criar uma virtualenv\n",
    "\n",
    "* Instalar psycopg2\n",
    "\n",
    "* Ler os dados da planilha Excel\n",
    "\n",
    "* Tratar os dados, se necessário\n",
    "* Inserir os dados no banco PostgreSQL\n",
    "* Coloque seu projeto no Gitlab, ou Github pessoal e me manda o link do repositório"
   ]
  },
  {
   "cell_type": "markdown",
   "metadata": {},
   "source": [
    "# Dependências "
   ]
  },
  {
   "cell_type": "markdown",
   "metadata": {},
   "source": [
    "## Biblioteca"
   ]
  },
  {
   "cell_type": "code",
   "execution_count": 1,
   "metadata": {
    "ExecuteTime": {
     "end_time": "2020-10-13T03:11:57.951029Z",
     "start_time": "2020-10-13T03:11:57.300304Z"
    }
   },
   "outputs": [],
   "source": [
    "import psycopg2\n",
    "import pandas as pd\n",
    "import numpy as np\n",
    "import seaborn as sns\n",
    "#import missingno as msno\n",
    "pd.set_option('display.max_rows', 500)\n",
    "pd.set_option('display.max_columns', 500)\n",
    "pd.set_option('display.width', 1000)\n",
    "%matplotlib inline"
   ]
  },
  {
   "cell_type": "markdown",
   "metadata": {},
   "source": [
    "## Dados e Constantes"
   ]
  },
  {
   "cell_type": "code",
   "execution_count": 2,
   "metadata": {
    "ExecuteTime": {
     "end_time": "2020-10-13T03:11:58.146191Z",
     "start_time": "2020-10-13T03:11:58.108919Z"
    }
   },
   "outputs": [
    {
     "data": {
      "text/html": [
       "<div>\n",
       "<style scoped>\n",
       "    .dataframe tbody tr th:only-of-type {\n",
       "        vertical-align: middle;\n",
       "    }\n",
       "\n",
       "    .dataframe tbody tr th {\n",
       "        vertical-align: top;\n",
       "    }\n",
       "\n",
       "    .dataframe thead th {\n",
       "        text-align: right;\n",
       "    }\n",
       "</style>\n",
       "<table border=\"1\" class=\"dataframe\">\n",
       "  <thead>\n",
       "    <tr style=\"text-align: right;\">\n",
       "      <th></th>\n",
       "      <th>id</th>\n",
       "      <th>categoria</th>\n",
       "    </tr>\n",
       "  </thead>\n",
       "  <tbody>\n",
       "    <tr>\n",
       "      <th>0</th>\n",
       "      <td>1</td>\n",
       "      <td>bebidas</td>\n",
       "    </tr>\n",
       "    <tr>\n",
       "      <th>1</th>\n",
       "      <td>2</td>\n",
       "      <td>sobremesas</td>\n",
       "    </tr>\n",
       "    <tr>\n",
       "      <th>2</th>\n",
       "      <td>3</td>\n",
       "      <td>cereais</td>\n",
       "    </tr>\n",
       "    <tr>\n",
       "      <th>3</th>\n",
       "      <td>4</td>\n",
       "      <td>frios</td>\n",
       "    </tr>\n",
       "    <tr>\n",
       "      <th>4</th>\n",
       "      <td>5</td>\n",
       "      <td>limpeza</td>\n",
       "    </tr>\n",
       "    <tr>\n",
       "      <th>5</th>\n",
       "      <td>6</td>\n",
       "      <td>hortifruti</td>\n",
       "    </tr>\n",
       "    <tr>\n",
       "      <th>6</th>\n",
       "      <td>7</td>\n",
       "      <td>perfumaria</td>\n",
       "    </tr>\n",
       "    <tr>\n",
       "      <th>7</th>\n",
       "      <td>8</td>\n",
       "      <td>mercearia</td>\n",
       "    </tr>\n",
       "    <tr>\n",
       "      <th>8</th>\n",
       "      <td>9</td>\n",
       "      <td>bazar</td>\n",
       "    </tr>\n",
       "    <tr>\n",
       "      <th>9</th>\n",
       "      <td>10</td>\n",
       "      <td>pet shop</td>\n",
       "    </tr>\n",
       "  </tbody>\n",
       "</table>\n",
       "</div>"
      ],
      "text/plain": [
       "   id   categoria\n",
       "0   1     bebidas\n",
       "1   2  sobremesas\n",
       "2   3     cereais\n",
       "3   4       frios\n",
       "4   5     limpeza\n",
       "5   6  hortifruti\n",
       "6   7  perfumaria\n",
       "7   8   mercearia\n",
       "8   9       bazar\n",
       "9  10    pet shop"
      ]
     },
     "execution_count": 2,
     "metadata": {},
     "output_type": "execute_result"
    }
   ],
   "source": [
    "df = pd.read_excel('categorias.xlsx')\n",
    "df.head(10)"
   ]
  },
  {
   "cell_type": "markdown",
   "metadata": {
    "ExecuteTime": {
     "end_time": "2020-10-12T17:36:52.124087Z",
     "start_time": "2020-10-12T17:36:52.112480Z"
    }
   },
   "source": [
    "## Inserindo os dados no banco Psql"
   ]
  },
  {
   "cell_type": "code",
   "execution_count": 3,
   "metadata": {
    "ExecuteTime": {
     "end_time": "2020-10-13T03:11:59.348915Z",
     "start_time": "2020-10-13T03:11:59.319630Z"
    }
   },
   "outputs": [
    {
     "name": "stdout",
     "output_type": "stream",
     "text": [
      "{'user': 'meu_grazielly', 'dbname': 'meu_db', 'host': '127.0.0.1', 'port': '5432', 'tty': '', 'options': '', 'sslmode': 'prefer', 'sslcompression': '0', 'krbsrvname': 'postgres', 'target_session_attrs': 'any'} \n",
      "\n",
      "You are connected to -  ('PostgreSQL 11.9 (Ubuntu 11.9-1.pgdg18.04+1) on x86_64-pc-linux-gnu, compiled by gcc (Ubuntu 7.5.0-3ubuntu1~18.04) 7.5.0, 64-bit',) \n",
      "\n"
     ]
    }
   ],
   "source": [
    "try:\n",
    "    connection = psycopg2.connect(user = \"meu_grazielly\",\n",
    "                                  password = \"1523\",\n",
    "                                  host = \"127.0.0.1\",\n",
    "                                  port = \"5432\",\n",
    "                                  database = \"meu_db\")\n",
    "\n",
    "    cursor = connection.cursor()\n",
    "    # Print PostgreSQL Connection properties\n",
    "    print ( connection.get_dsn_parameters(),\"\\n\")\n",
    "\n",
    "    # Print PostgreSQL version\n",
    "    cursor.execute(\"SELECT version();\")\n",
    "    record = cursor.fetchone()\n",
    "    print(\"You are connected to - \", record,\"\\n\")\n",
    "\n",
    "except (Exception, psycopg2.Error) as error :\n",
    "    print (\"Error while connecting to PostgreSQL\", error)"
   ]
  },
  {
   "cell_type": "code",
   "execution_count": 4,
   "metadata": {
    "ExecuteTime": {
     "end_time": "2020-10-13T03:11:59.980056Z",
     "start_time": "2020-10-13T03:11:59.974006Z"
    }
   },
   "outputs": [],
   "source": [
    "cur = connection.cursor()"
   ]
  },
  {
   "cell_type": "code",
   "execution_count": 7,
   "metadata": {
    "ExecuteTime": {
     "end_time": "2020-10-13T03:13:16.624041Z",
     "start_time": "2020-10-13T03:13:16.342327Z"
    }
   },
   "outputs": [],
   "source": [
    "#Criando tabela para categoria\n",
    "cur.execute(\"\"\"CREATE TABLE IF NOT EXISTS supermercado_1(id SERIAL PRIMARY KEY, nome_categoria VARCHAR(50));\"\"\")\n"
   ]
  },
  {
   "cell_type": "code",
   "execution_count": 8,
   "metadata": {
    "ExecuteTime": {
     "end_time": "2020-10-13T03:14:09.695892Z",
     "start_time": "2020-10-13T03:14:09.682409Z"
    }
   },
   "outputs": [],
   "source": [
    "#Inserindo dados para a tabela Categoria\n",
    "cur.execute(\"INSERT INTO supermercado_1(nome_categoria) VALUES ('bebidas')\")\n",
    "cur.execute(\"INSERT INTO supermercado_1(nome_categoria) VALUES ('sobremesas')\")\n",
    "cur.execute(\"INSERT INTO supermercado_1(nome_categoria) VALUES ('cereais')\")\n",
    "cur.execute(\"INSERT INTO supermercado_1(nome_categoria) VALUES ('frios')\")\n",
    "cur.execute(\"INSERT INTO supermercado_1(nome_categoria) VALUES ('cereais')\")\n",
    "cur.execute(\"INSERT INTO supermercado_1(nome_categoria) VALUES ('limpeza')\")\n",
    "cur.execute(\"INSERT INTO supermercado_1(nome_categoria) VALUES ('hortifruti')\")\n",
    "cur.execute(\"INSERT INTO supermercado_1(nome_categoria) VALUES ('perfumaria')\")\n",
    "cur.execute(\"INSERT INTO supermercado_1(nome_categoria) VALUES ('mercearia')\")\n",
    "cur.execute(\"INSERT INTO supermercado_1(nome_categoria) VALUES ('bazar')\")\n",
    "cur.execute(\"INSERT INTO supermercado_1(nome_categoria) VALUES ('pet shop')\")"
   ]
  },
  {
   "cell_type": "code",
   "execution_count": 9,
   "metadata": {
    "ExecuteTime": {
     "end_time": "2020-10-13T03:14:23.584341Z",
     "start_time": "2020-10-13T03:14:23.579022Z"
    }
   },
   "outputs": [],
   "source": [
    "cur.execute(\"SELECT * FROM supermercado_1;\")"
   ]
  },
  {
   "cell_type": "code",
   "execution_count": 10,
   "metadata": {
    "ExecuteTime": {
     "end_time": "2020-10-13T03:14:25.434143Z",
     "start_time": "2020-10-13T03:14:25.422250Z"
    }
   },
   "outputs": [
    {
     "data": {
      "text/plain": [
       "[(1, 'bebidas'),\n",
       " (2, 'sobremesas'),\n",
       " (3, 'cereais'),\n",
       " (4, 'frios'),\n",
       " (5, 'cereais'),\n",
       " (6, 'limpeza'),\n",
       " (7, 'hortifruti'),\n",
       " (8, 'perfumaria'),\n",
       " (9, 'mercearia'),\n",
       " (10, 'bazar'),\n",
       " (11, 'pet shop')]"
      ]
     },
     "execution_count": 10,
     "metadata": {},
     "output_type": "execute_result"
    }
   ],
   "source": [
    "cur.fetchall()"
   ]
  },
  {
   "cell_type": "code",
   "execution_count": null,
   "metadata": {},
   "outputs": [],
   "source": []
  }
 ],
 "metadata": {
  "kernelspec": {
   "display_name": "Python 3",
   "language": "python",
   "name": "python3"
  },
  "language_info": {
   "codemirror_mode": {
    "name": "ipython",
    "version": 3
   },
   "file_extension": ".py",
   "mimetype": "text/x-python",
   "name": "python",
   "nbconvert_exporter": "python",
   "pygments_lexer": "ipython3",
   "version": "3.8.3"
  },
  "toc": {
   "base_numbering": 1,
   "nav_menu": {},
   "number_sections": true,
   "sideBar": true,
   "skip_h1_title": false,
   "title_cell": "Table of Contents",
   "title_sidebar": "Contents",
   "toc_cell": false,
   "toc_position": {},
   "toc_section_display": true,
   "toc_window_display": false
  },
  "varInspector": {
   "cols": {
    "lenName": 16,
    "lenType": 16,
    "lenVar": 40
   },
   "kernels_config": {
    "python": {
     "delete_cmd_postfix": "",
     "delete_cmd_prefix": "del ",
     "library": "var_list.py",
     "varRefreshCmd": "print(var_dic_list())"
    },
    "r": {
     "delete_cmd_postfix": ") ",
     "delete_cmd_prefix": "rm(",
     "library": "var_list.r",
     "varRefreshCmd": "cat(var_dic_list()) "
    }
   },
   "types_to_exclude": [
    "module",
    "function",
    "builtin_function_or_method",
    "instance",
    "_Feature"
   ],
   "window_display": false
  }
 },
 "nbformat": 4,
 "nbformat_minor": 4
}
