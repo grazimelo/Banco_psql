{
 "cells": [
  {
   "cell_type": "markdown",
   "metadata": {
    "ExecuteTime": {
     "end_time": "2020-10-09T00:54:13.196903Z",
     "start_time": "2020-10-09T00:54:13.188729Z"
    }
   },
   "source": [
    "# Objetivo\n",
    "\n",
    "Dada uma planilha em Excel, inserir os dados da planilha num banco de dados PostgreSQL.\n",
    "\n",
    "Dica: você pode usar Python junto com psycopg2 para se conectar no PostgreSQL.\n",
    "    \n",
    "Passos:\n",
    "\n",
    "* Criar uma virtualenv\n",
    "\n",
    "* Instalar psycopg2\n",
    "\n",
    "* Ler os dados da planilha Excel\n",
    "\n",
    "* Tratar os dados, se necessário\n",
    "* Inserir os dados no banco PostgreSQL\n",
    "* Coloque seu projeto no Gitlab, ou Github pessoal e me manda o link do repositório"
   ]
  },
  {
   "cell_type": "markdown",
   "metadata": {},
   "source": [
    "# Dependências "
   ]
  },
  {
   "cell_type": "markdown",
   "metadata": {},
   "source": [
    "## Biblioteca"
   ]
  },
  {
   "cell_type": "code",
   "execution_count": 1,
   "metadata": {
    "ExecuteTime": {
     "end_time": "2020-10-14T02:32:34.602015Z",
     "start_time": "2020-10-14T02:32:34.433674Z"
    }
   },
   "outputs": [],
   "source": [
    "import psycopg2\n",
    "import pandas as pd\n",
    "from decouple import config"
   ]
  },
  {
   "cell_type": "markdown",
   "metadata": {},
   "source": [
    "## Dados e Constantes"
   ]
  },
  {
   "cell_type": "code",
   "execution_count": 2,
   "metadata": {
    "ExecuteTime": {
     "end_time": "2020-10-14T02:32:35.840215Z",
     "start_time": "2020-10-14T02:32:35.771888Z"
    }
   },
   "outputs": [],
   "source": [
    "df = pd.read_excel('categorias.xlsx')\n",
    "df_1 = pd.read_excel('produtos.xlsx')\n",
    "df_2 = pd.read_excel('produtos-com-categoria.xlsx')"
   ]
  },
  {
   "cell_type": "code",
   "execution_count": 3,
   "metadata": {
    "ExecuteTime": {
     "end_time": "2020-10-14T02:32:36.416812Z",
     "start_time": "2020-10-14T02:32:36.389353Z"
    }
   },
   "outputs": [
    {
     "data": {
      "text/html": [
       "<div>\n",
       "<style scoped>\n",
       "    .dataframe tbody tr th:only-of-type {\n",
       "        vertical-align: middle;\n",
       "    }\n",
       "\n",
       "    .dataframe tbody tr th {\n",
       "        vertical-align: top;\n",
       "    }\n",
       "\n",
       "    .dataframe thead th {\n",
       "        text-align: right;\n",
       "    }\n",
       "</style>\n",
       "<table border=\"1\" class=\"dataframe\">\n",
       "  <thead>\n",
       "    <tr style=\"text-align: right;\">\n",
       "      <th></th>\n",
       "      <th>id</th>\n",
       "      <th>categoria</th>\n",
       "    </tr>\n",
       "  </thead>\n",
       "  <tbody>\n",
       "    <tr>\n",
       "      <th>0</th>\n",
       "      <td>101</td>\n",
       "      <td>bebidas</td>\n",
       "    </tr>\n",
       "    <tr>\n",
       "      <th>1</th>\n",
       "      <td>210</td>\n",
       "      <td>sobremesas</td>\n",
       "    </tr>\n",
       "    <tr>\n",
       "      <th>2</th>\n",
       "      <td>314</td>\n",
       "      <td>cereais</td>\n",
       "    </tr>\n",
       "    <tr>\n",
       "      <th>3</th>\n",
       "      <td>420</td>\n",
       "      <td>frios</td>\n",
       "    </tr>\n",
       "    <tr>\n",
       "      <th>4</th>\n",
       "      <td>598</td>\n",
       "      <td>limpeza</td>\n",
       "    </tr>\n",
       "  </tbody>\n",
       "</table>\n",
       "</div>"
      ],
      "text/plain": [
       "    id   categoria\n",
       "0  101     bebidas\n",
       "1  210  sobremesas\n",
       "2  314     cereais\n",
       "3  420       frios\n",
       "4  598     limpeza"
      ]
     },
     "execution_count": 3,
     "metadata": {},
     "output_type": "execute_result"
    }
   ],
   "source": [
    "#tabela categoria\n",
    "df.head()"
   ]
  },
  {
   "cell_type": "code",
   "execution_count": 4,
   "metadata": {
    "ExecuteTime": {
     "end_time": "2020-10-14T02:32:37.080519Z",
     "start_time": "2020-10-14T02:32:37.066010Z"
    }
   },
   "outputs": [
    {
     "data": {
      "text/html": [
       "<div>\n",
       "<style scoped>\n",
       "    .dataframe tbody tr th:only-of-type {\n",
       "        vertical-align: middle;\n",
       "    }\n",
       "\n",
       "    .dataframe tbody tr th {\n",
       "        vertical-align: top;\n",
       "    }\n",
       "\n",
       "    .dataframe thead th {\n",
       "        text-align: right;\n",
       "    }\n",
       "</style>\n",
       "<table border=\"1\" class=\"dataframe\">\n",
       "  <thead>\n",
       "    <tr style=\"text-align: right;\">\n",
       "      <th></th>\n",
       "      <th>id</th>\n",
       "      <th>produto</th>\n",
       "      <th>preco</th>\n",
       "    </tr>\n",
       "  </thead>\n",
       "  <tbody>\n",
       "    <tr>\n",
       "      <th>0</th>\n",
       "      <td>1</td>\n",
       "      <td>uva</td>\n",
       "      <td>2.59</td>\n",
       "    </tr>\n",
       "    <tr>\n",
       "      <th>1</th>\n",
       "      <td>2</td>\n",
       "      <td>Suco de uva</td>\n",
       "      <td>10.47</td>\n",
       "    </tr>\n",
       "    <tr>\n",
       "      <th>2</th>\n",
       "      <td>3</td>\n",
       "      <td>Suco de manga</td>\n",
       "      <td>10.47</td>\n",
       "    </tr>\n",
       "    <tr>\n",
       "      <th>3</th>\n",
       "      <td>4</td>\n",
       "      <td>Suco de maça</td>\n",
       "      <td>10.47</td>\n",
       "    </tr>\n",
       "    <tr>\n",
       "      <th>4</th>\n",
       "      <td>5</td>\n",
       "      <td>Suco de laranja</td>\n",
       "      <td>10.47</td>\n",
       "    </tr>\n",
       "  </tbody>\n",
       "</table>\n",
       "</div>"
      ],
      "text/plain": [
       "   id          produto  preco\n",
       "0   1              uva   2.59\n",
       "1   2      Suco de uva  10.47\n",
       "2   3    Suco de manga  10.47\n",
       "3   4     Suco de maça  10.47\n",
       "4   5  Suco de laranja  10.47"
      ]
     },
     "execution_count": 4,
     "metadata": {},
     "output_type": "execute_result"
    }
   ],
   "source": [
    "#Tabela produtos\n",
    "df_1.head()"
   ]
  },
  {
   "cell_type": "code",
   "execution_count": 5,
   "metadata": {},
   "outputs": [
    {
     "data": {
      "text/html": [
       "<div>\n",
       "<style scoped>\n",
       "    .dataframe tbody tr th:only-of-type {\n",
       "        vertical-align: middle;\n",
       "    }\n",
       "\n",
       "    .dataframe tbody tr th {\n",
       "        vertical-align: top;\n",
       "    }\n",
       "\n",
       "    .dataframe thead th {\n",
       "        text-align: right;\n",
       "    }\n",
       "</style>\n",
       "<table border=\"1\" class=\"dataframe\">\n",
       "  <thead>\n",
       "    <tr style=\"text-align: right;\">\n",
       "      <th></th>\n",
       "      <th>id</th>\n",
       "      <th>produto</th>\n",
       "      <th>preco</th>\n",
       "      <th>categoria</th>\n",
       "    </tr>\n",
       "  </thead>\n",
       "  <tbody>\n",
       "    <tr>\n",
       "      <th>0</th>\n",
       "      <td>1</td>\n",
       "      <td>uva</td>\n",
       "      <td>2.59</td>\n",
       "      <td>670</td>\n",
       "    </tr>\n",
       "    <tr>\n",
       "      <th>1</th>\n",
       "      <td>2</td>\n",
       "      <td>Suco de uva</td>\n",
       "      <td>10.47</td>\n",
       "      <td>101</td>\n",
       "    </tr>\n",
       "    <tr>\n",
       "      <th>2</th>\n",
       "      <td>3</td>\n",
       "      <td>Suco de manga</td>\n",
       "      <td>10.47</td>\n",
       "      <td>101</td>\n",
       "    </tr>\n",
       "    <tr>\n",
       "      <th>3</th>\n",
       "      <td>4</td>\n",
       "      <td>Suco de maça</td>\n",
       "      <td>10.47</td>\n",
       "      <td>101</td>\n",
       "    </tr>\n",
       "    <tr>\n",
       "      <th>4</th>\n",
       "      <td>5</td>\n",
       "      <td>Suco de laranja</td>\n",
       "      <td>10.47</td>\n",
       "      <td>101</td>\n",
       "    </tr>\n",
       "  </tbody>\n",
       "</table>\n",
       "</div>"
      ],
      "text/plain": [
       "   id          produto  preco  categoria\n",
       "0   1              uva   2.59        670\n",
       "1   2      Suco de uva  10.47        101\n",
       "2   3    Suco de manga  10.47        101\n",
       "3   4     Suco de maça  10.47        101\n",
       "4   5  Suco de laranja  10.47        101"
      ]
     },
     "execution_count": 5,
     "metadata": {},
     "output_type": "execute_result"
    }
   ],
   "source": [
    "#Produtos com categorias\n",
    "df_2.head()"
   ]
  },
  {
   "cell_type": "code",
   "execution_count": 6,
   "metadata": {},
   "outputs": [
    {
     "data": {
      "text/plain": [
       "Index(['id', 'produto', 'preco', 'categoria'], dtype='object')"
      ]
     },
     "execution_count": 6,
     "metadata": {},
     "output_type": "execute_result"
    }
   ],
   "source": [
    "df_2.columns"
   ]
  },
  {
   "cell_type": "markdown",
   "metadata": {
    "ExecuteTime": {
     "end_time": "2020-10-12T17:36:52.124087Z",
     "start_time": "2020-10-12T17:36:52.112480Z"
    }
   },
   "source": [
    "## Inserindo os dados no banco Psql"
   ]
  },
  {
   "cell_type": "code",
   "execution_count": 7,
   "metadata": {
    "ExecuteTime": {
     "end_time": "2020-10-14T02:32:38.754040Z",
     "start_time": "2020-10-14T02:32:38.732116Z"
    }
   },
   "outputs": [
    {
     "name": "stdout",
     "output_type": "stream",
     "text": [
      "{'user': 'my_usuario', 'dbname': 'my_db', 'host': '127.0.0.1', 'port': '5432', 'tty': '', 'options': '', 'sslmode': 'prefer', 'sslcompression': '0', 'krbsrvname': 'postgres', 'target_session_attrs': 'any'} \n",
      "\n",
      "You are connected to -  ('PostgreSQL 11.7 (Ubuntu 11.7-0ubuntu0.19.10.1) on x86_64-pc-linux-gnu, compiled by gcc (Ubuntu 9.2.1-9ubuntu2) 9.2.1 20191008, 64-bit',) \n",
      "\n"
     ]
    }
   ],
   "source": [
    "try:\n",
    "    connection = psycopg2.connect(user = \"my_usuario\",\n",
    "                                  password = config(\"PASSWORD\"),\n",
    "                                  host = \"127.0.0.1\",\n",
    "                                  port = \"5432\",\n",
    "                                  database = \"my_db\")\n",
    "\n",
    "    cursor = connection.cursor()\n",
    "    # Print PostgreSQL Connection properties\n",
    "    print ( connection.get_dsn_parameters(),\"\\n\")\n",
    "\n",
    "    # Print PostgreSQL version\n",
    "    cursor.execute(\"SELECT version();\")\n",
    "    record = cursor.fetchone()\n",
    "    print(\"You are connected to - \", record,\"\\n\")\n",
    "\n",
    "except (Exception, psycopg2.Error) as error :\n",
    "    print (\"Error while connecting to PostgreSQL\", error)"
   ]
  },
  {
   "cell_type": "code",
   "execution_count": 8,
   "metadata": {
    "ExecuteTime": {
     "end_time": "2020-10-14T02:32:41.287004Z",
     "start_time": "2020-10-14T02:32:41.280036Z"
    }
   },
   "outputs": [],
   "source": [
    "cur = connection.cursor()"
   ]
  },
  {
   "cell_type": "markdown",
   "metadata": {},
   "source": [
    "## Tabela `categoria`"
   ]
  },
  {
   "cell_type": "code",
   "execution_count": 9,
   "metadata": {
    "ExecuteTime": {
     "end_time": "2020-10-14T02:30:03.212186Z",
     "start_time": "2020-10-14T02:30:02.997532Z"
    }
   },
   "outputs": [],
   "source": [
    "#Criando tabela para categoria\n",
    "cur.execute(\"\"\"CREATE TABLE IF NOT EXISTS categoria (id SERIAL PRIMARY KEY, nome VARCHAR(50));\"\"\")"
   ]
  },
  {
   "cell_type": "code",
   "execution_count": 10,
   "metadata": {
    "ExecuteTime": {
     "end_time": "2020-10-14T02:30:03.780898Z",
     "start_time": "2020-10-14T02:30:03.768140Z"
    },
    "scrolled": true
   },
   "outputs": [],
   "source": [
    "for i,row in df.iterrows():\n",
    "    name = row[\"categoria\"]\n",
    "    cur.execute(f\"INSERT INTO categoria (nome) VALUES ('{name}')\")"
   ]
  },
  {
   "cell_type": "code",
   "execution_count": 11,
   "metadata": {
    "ExecuteTime": {
     "end_time": "2020-10-14T02:30:05.887588Z",
     "start_time": "2020-10-14T02:30:05.841025Z"
    }
   },
   "outputs": [],
   "source": [
    "connection.commit()"
   ]
  },
  {
   "cell_type": "code",
   "execution_count": 12,
   "metadata": {},
   "outputs": [
    {
     "data": {
      "text/plain": [
       "[(1, 'bebidas'),\n",
       " (2, 'sobremesas'),\n",
       " (3, 'cereais'),\n",
       " (4, 'frios'),\n",
       " (5, 'limpeza'),\n",
       " (6, 'hortifruti'),\n",
       " (7, 'perfumaria'),\n",
       " (8, 'mercearia'),\n",
       " (9, 'bazar'),\n",
       " (10, 'pet shop')]"
      ]
     },
     "execution_count": 12,
     "metadata": {},
     "output_type": "execute_result"
    }
   ],
   "source": [
    "cur.execute(\"SELECT * FROM categoria;\")\n",
    "cur.fetchall()"
   ]
  },
  {
   "cell_type": "markdown",
   "metadata": {},
   "source": [
    "## Tabela `produtos`"
   ]
  },
  {
   "cell_type": "code",
   "execution_count": 13,
   "metadata": {
    "ExecuteTime": {
     "end_time": "2020-10-14T02:32:45.159088Z",
     "start_time": "2020-10-14T02:32:45.152472Z"
    }
   },
   "outputs": [],
   "source": [
    "#Criando tabela para produtos. \n",
    "cur.execute(\"\"\"CREATE TABLE IF NOT EXISTS produtos(id SERIAL PRIMARY KEY, nome_produto VARCHAR(50), valor_produtos decimal);\"\"\")"
   ]
  },
  {
   "cell_type": "code",
   "execution_count": 14,
   "metadata": {
    "ExecuteTime": {
     "end_time": "2020-10-14T02:32:46.890583Z",
     "start_time": "2020-10-14T02:32:46.809920Z"
    }
   },
   "outputs": [],
   "source": [
    "for i, row in df_1.iterrows():\n",
    "    nome_produto = row[\"produto\"]\n",
    "    valor_produtos = row[\"preco\"]\n",
    "    cur.execute(f\"INSERT INTO produtos (nome_produto, valor_produtos) VALUES ('{nome_produto}','{valor_produtos}')\")"
   ]
  },
  {
   "cell_type": "code",
   "execution_count": 15,
   "metadata": {},
   "outputs": [],
   "source": [
    "connection.commit()"
   ]
  },
  {
   "cell_type": "code",
   "execution_count": 16,
   "metadata": {},
   "outputs": [
    {
     "data": {
      "text/plain": [
       "[(1, 'uva', Decimal('2.59')),\n",
       " (2, 'Suco de uva', Decimal('10.47')),\n",
       " (3, 'Suco de manga', Decimal('10.47')),\n",
       " (4, 'Suco de maça', Decimal('10.47')),\n",
       " (5, 'Suco de laranja', Decimal('10.47')),\n",
       " (6, 'shampoo', Decimal('3.97')),\n",
       " (7, 'sardinha enlatada', Decimal('8.63')),\n",
       " (8, 'sandália Havaianas', Decimal('4.56')),\n",
       " (9, 'sabonete', Decimal('2.75')),\n",
       " (10, 'Sabão em pó', Decimal('17.93')),\n",
       " (11, 'Sabão em barra', Decimal('1.75')),\n",
       " (12, 'Ração para gato', Decimal('14.96')),\n",
       " (13, 'Ração para cachorro', Decimal('8.63')),\n",
       " (14, 'quinoa', Decimal('7.12')),\n",
       " (15, 'Queijo mussarela', Decimal('5.33')),\n",
       " (16, 'Queijo frescal', Decimal('5.55')),\n",
       " (17, 'Pudim', Decimal('2.55')),\n",
       " (18, 'Petit Gateau', Decimal('6.77')),\n",
       " (19, 'óleo de soja', Decimal('4.6')),\n",
       " (20, 'óleo de girassol', Decimal('16.85')),\n",
       " (21, 'mortadela', Decimal('6.39')),\n",
       " (22, 'melão', Decimal('1.12')),\n",
       " (23, 'melancia', Decimal('2.1')),\n",
       " (24, 'manga', Decimal('15.41')),\n",
       " (25, 'maionese', Decimal('3.32')),\n",
       " (26, 'macarrão', Decimal('5.4')),\n",
       " (27, 'maçã', Decimal('3.14')),\n",
       " (28, 'linhaça', Decimal('5.3')),\n",
       " (29, 'leite', Decimal('10.84')),\n",
       " (30, 'laranja', Decimal('3.1')),\n",
       " (31, 'Itubaina', Decimal('2.8')),\n",
       " (32, 'granola', Decimal('7.08')),\n",
       " (33, 'Gelatina', Decimal('7.42')),\n",
       " (34, 'flocos de milho', Decimal('13.61')),\n",
       " (35, 'feijão', Decimal('8.9')),\n",
       " (36, 'farinha de trigo', Decimal('8.82')),\n",
       " (37, 'Fanta Uva', Decimal('3.96')),\n",
       " (38, 'Fanta Laranja', Decimal('3.49')),\n",
       " (39, 'extrato de tomate', Decimal('1.12')),\n",
       " (40, 'escova dental', Decimal('10.72')),\n",
       " (41, 'Detergente', Decimal('5.29')),\n",
       " (42, 'desodorante', Decimal('2.95')),\n",
       " (43, 'Desinfetante', Decimal('4.69')),\n",
       " (44, 'creme dental', Decimal('1.45')),\n",
       " (45, 'creme de barbear', Decimal('2.48')),\n",
       " (46, 'condicionador', Decimal('9.0')),\n",
       " (47, 'Coleira', Decimal('11.81')),\n",
       " (48, 'Coca-Cola', Decimal('3.49')),\n",
       " (49, 'chá', Decimal('4.98')),\n",
       " (50, 'centeio', Decimal('8.9')),\n",
       " (51, 'Camiseta branca', Decimal('1.78')),\n",
       " (52, 'café', Decimal('7.08')),\n",
       " (53, 'Bola de morder', Decimal('5.96')),\n",
       " (54, 'Bananinha', Decimal('0.86')),\n",
       " (55, 'banana', Decimal('1.71')),\n",
       " (56, 'azeite', Decimal('3.35')),\n",
       " (57, 'aveia', Decimal('10.03')),\n",
       " (58, 'atum enlatado', Decimal('1.7')),\n",
       " (59, 'arroz', Decimal('5.5')),\n",
       " (60, 'Apresuntado', Decimal('4.82')),\n",
       " (61, 'Ambrosia', Decimal('2.55')),\n",
       " (62, 'Água sanitária', Decimal('13.89')),\n",
       " (63, 'abacaxi', Decimal('1.02')),\n",
       " (64, 'abacate', Decimal('6.34'))]"
      ]
     },
     "execution_count": 16,
     "metadata": {},
     "output_type": "execute_result"
    }
   ],
   "source": [
    "cur.execute(\"SELECT * FROM produtos;\")\n",
    "cur.fetchall()"
   ]
  },
  {
   "cell_type": "markdown",
   "metadata": {},
   "source": [
    "## Tabela `produtos_categoria`"
   ]
  },
  {
   "cell_type": "code",
   "execution_count": 17,
   "metadata": {},
   "outputs": [],
   "source": [
    "#Produtos com categoria\n",
    "cur.execute(\"\"\"CREATE TABLE IF NOT EXISTS produtos_categoria (id SERIAL PRIMARY KEY, nome_produto VARCHAR(50), valor_produto decimal, categoria_tipo INT REFERENCES categoria(id));\"\"\")"
   ]
  },
  {
   "cell_type": "code",
   "execution_count": 18,
   "metadata": {},
   "outputs": [],
   "source": [
    "connection.commit()"
   ]
  },
  {
   "cell_type": "code",
   "execution_count": null,
   "metadata": {},
   "outputs": [],
   "source": [
    "for i, row in df_2.iterrows():\n",
    "    nome_produto = row[\"produto\"]\n",
    "    valor_produto = row[\"preco\"]\n",
    "    categoria_tipo = row[\"categoria\"]\n",
    "    # cur.execute(f\"INSERT INTO produtos_categoria (nome_produto, valor_produto, categoria_tipo) VALUES ('{nome_produto}','{valor_produto}',{categoria_tipo})\")"
   ]
  },
  {
   "cell_type": "code",
   "execution_count": null,
   "metadata": {},
   "outputs": [],
   "source": [
    "# connection.commit()"
   ]
  },
  {
   "cell_type": "code",
   "execution_count": null,
   "metadata": {},
   "outputs": [],
   "source": [
    "# cur.execute(\"SELECT * FROM produtos_categoria;\")\n",
    "# cur.fetchall()"
   ]
  },
  {
   "cell_type": "code",
   "execution_count": null,
   "metadata": {},
   "outputs": [],
   "source": [
    "#cur.execute(\"DELETE FROM produtos where id > 64;\")\n",
    "#cur.execute(\"DROP TABLE IF EXISTS produtos;\")\n",
    "#cur.execute(\"ALTER TABLE produtos DROP COLUMN valor_produto;\")\n",
    "#cur.execute(\"ALTER TABLE produtos ADD valor_produtos decimal;\")"
   ]
  }
 ],
 "metadata": {
  "kernelspec": {
   "display_name": "Python 3",
   "language": "python",
   "name": "python3"
  },
  "language_info": {
   "codemirror_mode": {
    "name": "ipython",
    "version": 3
   },
   "file_extension": ".py",
   "mimetype": "text/x-python",
   "name": "python",
   "nbconvert_exporter": "python",
   "pygments_lexer": "ipython3",
   "version": "3.8.2"
  },
  "toc": {
   "base_numbering": 1,
   "nav_menu": {},
   "number_sections": true,
   "sideBar": true,
   "skip_h1_title": false,
   "title_cell": "Table of Contents",
   "title_sidebar": "Contents",
   "toc_cell": false,
   "toc_position": {},
   "toc_section_display": true,
   "toc_window_display": false
  },
  "varInspector": {
   "cols": {
    "lenName": 16,
    "lenType": 16,
    "lenVar": 40
   },
   "kernels_config": {
    "python": {
     "delete_cmd_postfix": "",
     "delete_cmd_prefix": "del ",
     "library": "var_list.py",
     "varRefreshCmd": "print(var_dic_list())"
    },
    "r": {
     "delete_cmd_postfix": ") ",
     "delete_cmd_prefix": "rm(",
     "library": "var_list.r",
     "varRefreshCmd": "cat(var_dic_list()) "
    }
   },
   "types_to_exclude": [
    "module",
    "function",
    "builtin_function_or_method",
    "instance",
    "_Feature"
   ],
   "window_display": false
  }
 },
 "nbformat": 4,
 "nbformat_minor": 4
}
