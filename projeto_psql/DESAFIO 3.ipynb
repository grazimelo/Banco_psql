{
 "cells": [
  {
   "cell_type": "code",
   "execution_count": 1,
   "metadata": {
    "ExecuteTime": {
     "end_time": "2020-10-27T01:41:59.877094Z",
     "start_time": "2020-10-27T01:41:59.873052Z"
    }
   },
   "outputs": [],
   "source": [
    "#DESAFIO 3 "
   ]
  },
  {
   "cell_type": "code",
   "execution_count": 2,
   "metadata": {
    "ExecuteTime": {
     "end_time": "2020-10-27T01:42:00.338747Z",
     "start_time": "2020-10-27T01:42:00.127488Z"
    }
   },
   "outputs": [],
   "source": [
    "import psycopg2\n",
    "import pandas as pd\n",
    "from decouple import config"
   ]
  },
  {
   "cell_type": "code",
   "execution_count": 3,
   "metadata": {
    "ExecuteTime": {
     "end_time": "2020-10-27T01:42:00.767564Z",
     "start_time": "2020-10-27T01:42:00.532124Z"
    }
   },
   "outputs": [],
   "source": [
    "df_venda_itens = pd.read_excel('itens_venda.xlsx')\n",
    "df_venda = pd.read_excel('venda.xlsx')\n",
    "df_cliente  = pd.read_excel('cliente.xlsx')\n",
    "df_categoria = pd.read_excel('categorias.xlsx')\n",
    "df_produtos = pd.read_excel('produtos.xlsx')"
   ]
  },
  {
   "cell_type": "code",
   "execution_count": 4,
   "metadata": {
    "ExecuteTime": {
     "end_time": "2020-10-27T01:42:01.892727Z",
     "start_time": "2020-10-27T01:42:01.884232Z"
    }
   },
   "outputs": [],
   "source": [
    "#Atualizar preço venda \n",
    "df_venda_itens['preco_venda'] = round(df_venda_itens['preco_venda']*5.60, 1)"
   ]
  },
  {
   "cell_type": "code",
   "execution_count": 5,
   "metadata": {
    "ExecuteTime": {
     "end_time": "2020-10-27T01:42:02.653231Z",
     "start_time": "2020-10-27T01:42:02.642610Z"
    }
   },
   "outputs": [
    {
     "name": "stdout",
     "output_type": "stream",
     "text": [
      "{'user': 'my_usuario', 'dbname': 'my_db', 'host': '127.0.0.1', 'port': '5432', 'tty': '', 'options': '', 'sslmode': 'prefer', 'sslcompression': '0', 'krbsrvname': 'postgres', 'target_session_attrs': 'any'} \n",
      "\n",
      "You are connected to -  ('PostgreSQL 11.9 (Ubuntu 11.9-1.pgdg18.04+1) on x86_64-pc-linux-gnu, compiled by gcc (Ubuntu 7.5.0-3ubuntu1~18.04) 7.5.0, 64-bit',) \n",
      "\n"
     ]
    }
   ],
   "source": [
    "#Adicionando as novas tabela no banco \"my_db\"\n",
    "try:\n",
    "    connection = psycopg2.connect(user = \"my_usuario\",\n",
    "                                  password = config(\"PASSWORD\"),\n",
    "                                  host = \"127.0.0.1\",\n",
    "                                  port = \"5432\",\n",
    "                                  database = \"my_db\")\n",
    "\n",
    "    cursor = connection.cursor()\n",
    "    # Print PostgreSQL Connection properties\n",
    "    print ( connection.get_dsn_parameters(),\"\\n\")\n",
    "\n",
    "    # Print PostgreSQL version\n",
    "    cursor.execute(\"SELECT version();\")\n",
    "    record = cursor.fetchone()\n",
    "    print(\"You are connected to - \", record,\"\\n\")\n",
    "\n",
    "except (Exception, psycopg2.Error) as error :\n",
    "    print (\"Error while connecting to PostgreSQL\", error)"
   ]
  },
  {
   "cell_type": "code",
   "execution_count": 6,
   "metadata": {
    "ExecuteTime": {
     "end_time": "2020-10-27T01:42:04.591762Z",
     "start_time": "2020-10-27T01:42:04.585545Z"
    }
   },
   "outputs": [],
   "source": [
    "cur = connection.cursor()"
   ]
  },
  {
   "cell_type": "code",
   "execution_count": 7,
   "metadata": {
    "ExecuteTime": {
     "end_time": "2020-10-27T01:42:14.840498Z",
     "start_time": "2020-10-27T01:42:14.470907Z"
    }
   },
   "outputs": [],
   "source": [
    "cur.execute(\"\"\"CREATE TABLE IF NOT EXISTS venda_itens(id SERIAL PRIMARY KEY, venda_id VARCHAR(50), produto_id VARCHAR(50), quantidade VARCHAR(50), preco_venda decimal);\"\"\")\n",
    "connection.commit()"
   ]
  },
  {
   "cell_type": "code",
   "execution_count": null,
   "metadata": {
    "ExecuteTime": {
     "end_time": "2020-10-27T01:31:45.272630Z",
     "start_time": "2020-10-27T01:31:45.176839Z"
    }
   },
   "outputs": [],
   "source": [
    "#Inserindo tabela venda itens\n",
    "for i, row in df_venda_itens.iterrows():\n",
    "    venda_id = row[\"venda_id\"]\n",
    "    produto_id = row[\"produto_id\"]\n",
    "    quantidade = row[\"quantidade\"]\n",
    "    preco_venda = row['preco_venda']\n",
    "    cur.execute(f\"INSERT INTO venda_itens(venda_id, produto_id, quantidade, preco_venda) VALUES ('{venda_id}','{produto_id}','{quantidade}','{preco_venda}')\")"
   ]
  },
  {
   "cell_type": "code",
   "execution_count": null,
   "metadata": {
    "ExecuteTime": {
     "end_time": "2020-10-27T01:32:13.241613Z",
     "start_time": "2020-10-27T01:32:13.218445Z"
    }
   },
   "outputs": [],
   "source": [
    "cur.execute(\"SELECT * FROM venda_itens;\")\n",
    "cur.fetchall()"
   ]
  },
  {
   "cell_type": "code",
   "execution_count": null,
   "metadata": {
    "ExecuteTime": {
     "end_time": "2020-10-27T01:41:08.444881Z",
     "start_time": "2020-10-27T01:41:08.252800Z"
    }
   },
   "outputs": [],
   "source": [
    "#Tabela venda\n",
    "cur.execute(\"\"\"CREATE TABLE IF NOT EXISTS venda(id SERIAL PRIMARY KEY, data VARCHAR(50), cliente_id VARCHAR(50));\"\"\")\n",
    "connection.commit()"
   ]
  },
  {
   "cell_type": "code",
   "execution_count": null,
   "metadata": {
    "ExecuteTime": {
     "end_time": "2020-10-27T01:08:34.546510Z",
     "start_time": "2020-10-27T01:08:34.490433Z"
    }
   },
   "outputs": [],
   "source": [
    "for i, row in df_venda.iterrows():\n",
    "    data = row[\"data\"]\n",
    "    cliente_id = row[\"cliente_id\"]\n",
    "    cur.execute(f\"INSERT INTO venda(data, cliente_id) VALUES ('{data}','{cliente_id}')\")"
   ]
  },
  {
   "cell_type": "code",
   "execution_count": null,
   "metadata": {
    "ExecuteTime": {
     "end_time": "2020-10-27T01:08:35.204909Z",
     "start_time": "2020-10-27T01:08:35.186693Z"
    },
    "scrolled": true
   },
   "outputs": [],
   "source": [
    "cur.execute(\"SELECT * FROM venda;\")\n",
    "cur.fetchall()"
   ]
  },
  {
   "cell_type": "code",
   "execution_count": 8,
   "metadata": {
    "ExecuteTime": {
     "end_time": "2020-10-27T01:42:39.196731Z",
     "start_time": "2020-10-27T01:42:38.911311Z"
    }
   },
   "outputs": [],
   "source": [
    "#Criando tabela cliente\n",
    "cur.execute(\"\"\"CREATE TABLE IF NOT EXISTS cliente(id INTEGER PRIMARY KEY, nome VARCHAR(50));\"\"\")\n",
    "connection.commit()"
   ]
  },
  {
   "cell_type": "code",
   "execution_count": 9,
   "metadata": {
    "ExecuteTime": {
     "end_time": "2020-10-27T01:42:46.068420Z",
     "start_time": "2020-10-27T01:42:46.059233Z"
    }
   },
   "outputs": [],
   "source": [
    "df_cliente.drop_duplicates(subset=['id'], keep='first', inplace=True)"
   ]
  },
  {
   "cell_type": "code",
   "execution_count": 10,
   "metadata": {
    "ExecuteTime": {
     "end_time": "2020-10-27T01:42:46.849446Z",
     "start_time": "2020-10-27T01:42:46.835723Z"
    }
   },
   "outputs": [],
   "source": [
    "for i, row in df_cliente.iterrows():\n",
    "    id_ = row[\"id\"]\n",
    "    nome = row[\"nome\"]\n",
    "    cur.execute(f\"INSERT INTO cliente(id, nome) VALUES ('{id_}','{nome}')\")"
   ]
  },
  {
   "cell_type": "code",
   "execution_count": 11,
   "metadata": {
    "ExecuteTime": {
     "end_time": "2020-10-27T01:42:48.061821Z",
     "start_time": "2020-10-27T01:42:48.039484Z"
    }
   },
   "outputs": [
    {
     "data": {
      "text/plain": [
       "[(398, 'Ronald Allen'),\n",
       " (367, 'Shawn Nguyen'),\n",
       " (148, 'Isaiah Martin'),\n",
       " (800, 'Jonathan Watson'),\n",
       " (397, 'Michael Moon'),\n",
       " (210, 'Daniel York'),\n",
       " (896, 'Elizabeth Wilson'),\n",
       " (836, 'Michael Smith'),\n",
       " (265, 'Christina Logan'),\n",
       " (935, 'Amanda Hoffman'),\n",
       " (371, 'Kyle Brown'),\n",
       " (507, 'Kimberly Johnson'),\n",
       " (913, 'Micheal Jones'),\n",
       " (255, 'Michael Williams'),\n",
       " (353, 'Meredith Clarke'),\n",
       " (859, 'Gregory Ellis MD'),\n",
       " (650, 'Katherine Murray'),\n",
       " (993, 'Taylor Mcdowell'),\n",
       " (563, 'Jake Gates'),\n",
       " (978, 'Dr. Christopher Knapp'),\n",
       " (902, 'Marissa Miller'),\n",
       " (213, 'James Perez'),\n",
       " (378, 'Brianna Glass'),\n",
       " (171, 'Trevor Campbell'),\n",
       " (953, 'Nicole Alexander MD'),\n",
       " (176, 'Jonathan Salazar'),\n",
       " (308, 'Donald Nguyen'),\n",
       " (812, 'Gary Andrews'),\n",
       " (985, 'Anthony Shah'),\n",
       " (393, 'Jonathan Copeland'),\n",
       " (725, 'Sara Boyd'),\n",
       " (205, 'Tim Smith'),\n",
       " (775, 'Raymond Craig'),\n",
       " (332, 'Richard Melendez'),\n",
       " (415, 'Dylan Jones'),\n",
       " (696, 'Kimberly Kennedy'),\n",
       " (928, 'Michael Moore'),\n",
       " (640, 'Sandra Mora'),\n",
       " (932, 'Jodi Garcia'),\n",
       " (552, 'Timothy Hernandez'),\n",
       " (931, 'Christina Moore'),\n",
       " (668, 'Karen Burton'),\n",
       " (549, 'Christian Warren'),\n",
       " (433, 'Kristy Watson'),\n",
       " (524, 'Kaitlin Nelson'),\n",
       " (224, 'Nathan Gutierrez'),\n",
       " (637, 'Kelly Levy')]"
      ]
     },
     "execution_count": 11,
     "metadata": {},
     "output_type": "execute_result"
    }
   ],
   "source": [
    "cur.execute(\"SELECT * FROM cliente;\")\n",
    "cur.fetchall()"
   ]
  }
 ],
 "metadata": {
  "kernelspec": {
   "display_name": "Python 3",
   "language": "python",
   "name": "python3"
  },
  "language_info": {
   "codemirror_mode": {
    "name": "ipython",
    "version": 3
   },
   "file_extension": ".py",
   "mimetype": "text/x-python",
   "name": "python",
   "nbconvert_exporter": "python",
   "pygments_lexer": "ipython3",
   "version": "3.8.3"
  },
  "toc": {
   "base_numbering": 1,
   "nav_menu": {},
   "number_sections": true,
   "sideBar": true,
   "skip_h1_title": false,
   "title_cell": "Table of Contents",
   "title_sidebar": "Contents",
   "toc_cell": false,
   "toc_position": {},
   "toc_section_display": true,
   "toc_window_display": false
  },
  "varInspector": {
   "cols": {
    "lenName": 16,
    "lenType": 16,
    "lenVar": 40
   },
   "kernels_config": {
    "python": {
     "delete_cmd_postfix": "",
     "delete_cmd_prefix": "del ",
     "library": "var_list.py",
     "varRefreshCmd": "print(var_dic_list())"
    },
    "r": {
     "delete_cmd_postfix": ") ",
     "delete_cmd_prefix": "rm(",
     "library": "var_list.r",
     "varRefreshCmd": "cat(var_dic_list()) "
    }
   },
   "types_to_exclude": [
    "module",
    "function",
    "builtin_function_or_method",
    "instance",
    "_Feature"
   ],
   "window_display": false
  }
 },
 "nbformat": 4,
 "nbformat_minor": 4
}
